{
  "nbformat": 4,
  "nbformat_minor": 0,
  "metadata": {
    "colab": {
      "provenance": [],
      "gpuType": "T4"
    },
    "kernelspec": {
      "name": "python3",
      "display_name": "Python 3"
    },
    "language_info": {
      "name": "python"
    },
    "accelerator": "GPU"
  },
  "cells": [
    {
      "cell_type": "code",
      "execution_count": 1,
      "metadata": {
        "colab": {
          "base_uri": "https://localhost:8080/"
        },
        "id": "g9mRFdMPaPdo",
        "outputId": "ed60988e-5824-4343-ba43-94c4d5392911"
      },
      "outputs": [
        {
          "output_type": "stream",
          "name": "stdout",
          "text": [
            "Mounted at /content/drive\n"
          ]
        }
      ],
      "source": [
        "#@title Mount google drive\n",
        "from google.colab import drive\n",
        "drive.mount('/content/drive')\n",
        "from sys import version_info\n",
        "python_version = f\"{version_info.major}.{version_info.minor}\""
      ]
    },
    {
      "cell_type": "code",
      "source": [
        "#@title Input protein sequence, then hit `Runtime` -> `Run all`\n",
        "\n",
        "input_dir = '/content/drive/MyDrive/alphafold2/intersection.fasta' #@param {type:\"string\"}\n",
        "result_dir = '/content/drive/MyDrive/alphafold2/result' #@param {type:\"string\"}\n",
        "\n",
        "# number of models to use\n",
        "#@markdown ---\n",
        "#@markdown ### Advanced settings\n",
        "msa_mode = \"MMseqs2 (UniRef+Environmental)\" #@param [\"MMseqs2 (UniRef+Environmental)\", \"MMseqs2 (UniRef only)\",\"single_sequence\",\"custom\"]\n",
        "num_models = 1 #@param [1,2,3,4,5] {type:\"raw\"}\n",
        "num_recycles = 3 #@param [1,3,6,12,24,48] {type:\"raw\"}\n",
        "stop_at_score = 100 #@param {type:\"string\"}\n",
        "#@markdown - early stop computing models once score > threshold (avg. plddt for \"structures\" and ptmscore for \"complexes\")\n",
        "use_custom_msa = False\n",
        "num_relax = 0 #@param [0, 1, 5] {type:\"raw\"}\n",
        "use_amber = num_relax > 0\n",
        "relax_max_iterations = 200 #@param [0,200,2000] {type:\"raw\"}\n",
        "use_templates = False #@param {type:\"boolean\"}\n",
        "do_not_overwrite_results = True #@param {type:\"boolean\"}\n",
        "zip_results = False #@param {type:\"boolean\"}"
      ],
      "metadata": {
        "id": "3KG3sWHDaVw-"
      },
      "execution_count": 7,
      "outputs": []
    },
    {
      "cell_type": "code",
      "source": [
        "#@title Install dependencies\n",
        "%%bash -s $use_amber $use_templates $python_version\n",
        "\n",
        "set -e\n",
        "\n",
        "USE_AMBER=$1\n",
        "USE_TEMPLATES=$2\n",
        "PYTHON_VERSION=$3\n",
        "\n",
        "if [ ! -f COLABFOLD_READY ]; then\n",
        "  # install dependencies\n",
        "  # We have to use \"--no-warn-conflicts\" because colab already has a lot preinstalled with requirements different to ours\n",
        "  pip install -q --no-warn-conflicts \"colabfold[alphafold-minus-jax] @ git+https://github.com/sokrypton/ColabFold\"\n",
        "  if [ -n \"${TPU_NAME}\" ]; then\n",
        "    pip install -q --no-warn-conflicts -U dm-haiku==0.0.10 jax==0.3.25\n",
        "  fi\n",
        "  ln -s /usr/local/lib/python3.*/dist-packages/colabfold colabfold\n",
        "  ln -s /usr/local/lib/python3.*/dist-packages/alphafold alphafold\n",
        "  touch COLABFOLD_READY\n",
        "fi\n",
        "\n",
        "# Download params (~1min)\n",
        "python -m colabfold.download\n",
        "\n",
        "# setup conda\n",
        "if [ ${USE_AMBER} == \"True\" ] || [ ${USE_TEMPLATES} == \"True\" ]; then\n",
        "  if [ ! -f CONDA_READY ]; then\n",
        "    wget -qnc https://repo.anaconda.com/miniconda/Miniconda3-latest-Linux-x86_64.sh\n",
        "    bash Miniconda3-latest-Linux-x86_64.sh -bfp /usr/local 2>&1 1>/dev/null\n",
        "    rm Miniconda3-latest-Linux-x86_64.sh\n",
        "    conda config --set auto_update_conda false\n",
        "    touch CONDA_READY\n",
        "  fi\n",
        "fi\n",
        "# setup template search\n",
        "if [ ${USE_TEMPLATES} == \"True\" ] && [ ! -f HH_READY ]; then\n",
        "  conda install -y -q -c conda-forge -c bioconda kalign2=2.04 hhsuite=3.3.0 python=\"${PYTHON_VERSION}\" 2>&1 1>/dev/null\n",
        "  touch HH_READY\n",
        "fi\n",
        "# setup openmm for amber refinement\n",
        "if [ ${USE_AMBER} == \"True\" ] && [ ! -f AMBER_READY ]; then\n",
        "  conda install -y -q -c conda-forge openmm=8.2.0 python=\"${PYTHON_VERSION}\" pdbfixer 2>&1 1>/dev/null\n",
        "  touch AMBER_READY\n",
        "fi"
      ],
      "metadata": {
        "colab": {
          "base_uri": "https://localhost:8080/"
        },
        "id": "oioeGeIUaf-6",
        "outputId": "fd82d0ee-2406-42ae-dbb9-1c3257c2012d"
      },
      "execution_count": 8,
      "outputs": [
        {
          "output_type": "stream",
          "name": "stdout",
          "text": [
            "   ━━━━━━━━━━━━━━━━━━━━━━━━━━━━━━━━━━━━━━━━ 242.2/242.2 kB 9.7 MB/s eta 0:00:00\n",
            "   ━━━━━━━━━━━━━━━━━━━━━━━━━━━━━━━━━━━━━━━━ 3.3/3.3 MB 66.2 MB/s eta 0:00:00\n",
            "   ━━━━━━━━━━━━━━━━━━━━━━━━━━━━━━━━━━━━━━━━ 373.9/373.9 kB 28.3 MB/s eta 0:00:00\n",
            "   ━━━━━━━━━━━━━━━━━━━━━━━━━━━━━━━━━━━━━━━━ 251.8/251.8 MB 5.8 MB/s eta 0:00:00\n",
            "   ━━━━━━━━━━━━━━━━━━━━━━━━━━━━━━━━━━━━━━━━ 4.7/4.7 MB 104.8 MB/s eta 0:00:00\n",
            "   ━━━━━━━━━━━━━━━━━━━━━━━━━━━━━━━━━━━━━━━━ 5.5/5.5 MB 116.8 MB/s eta 0:00:00\n",
            "   ━━━━━━━━━━━━━━━━━━━━━━━━━━━━━━━━━━━━━━━━ 76.7/76.7 kB 8.2 MB/s eta 0:00:00\n"
          ]
        },
        {
          "output_type": "stream",
          "name": "stderr",
          "text": [
            "\rDownloading alphafold2_multimer_v3 weights to /root/.cache/colabfold:   0%|          | 0/4099624960 [00:00<?, ?it/s]\rDownloading alphafold2_multimer_v3 weights to /root/.cache/colabfold:   0%|          | 10.2M/3.82G [00:00<00:38, 107MB/s]\rDownloading alphafold2_multimer_v3 weights to /root/.cache/colabfold:   1%|          | 40.8M/3.82G [00:00<00:17, 233MB/s]\rDownloading alphafold2_multimer_v3 weights to /root/.cache/colabfold:   2%|▏         | 71.0M/3.82G [00:00<00:14, 271MB/s]\rDownloading alphafold2_multimer_v3 weights to /root/.cache/colabfold:   2%|▏         | 96.9M/3.82G [00:00<00:15, 263MB/s]\rDownloading alphafold2_multimer_v3 weights to /root/.cache/colabfold:   3%|▎         | 122M/3.82G [00:00<00:16, 237MB/s] \rDownloading alphafold2_multimer_v3 weights to /root/.cache/colabfold:   4%|▍         | 147M/3.82G [00:00<00:16, 246MB/s]\rDownloading alphafold2_multimer_v3 weights to /root/.cache/colabfold:   4%|▍         | 171M/3.82G [00:00<00:16, 235MB/s]\rDownloading alphafold2_multimer_v3 weights to /root/.cache/colabfold:   5%|▌         | 197M/3.82G [00:00<00:15, 244MB/s]\rDownloading alphafold2_multimer_v3 weights to /root/.cache/colabfold:   6%|▌         | 222M/3.82G [00:00<00:15, 252MB/s]\rDownloading alphafold2_multimer_v3 weights to /root/.cache/colabfold:   6%|▋         | 248M/3.82G [00:01<00:14, 257MB/s]\rDownloading alphafold2_multimer_v3 weights to /root/.cache/colabfold:   7%|▋         | 273M/3.82G [00:01<00:16, 234MB/s]\rDownloading alphafold2_multimer_v3 weights to /root/.cache/colabfold:   8%|▊         | 296M/3.82G [00:01<00:18, 208MB/s]\rDownloading alphafold2_multimer_v3 weights to /root/.cache/colabfold:   8%|▊         | 316M/3.82G [00:01<00:19, 193MB/s]\rDownloading alphafold2_multimer_v3 weights to /root/.cache/colabfold:   9%|▊         | 336M/3.82G [00:01<00:19, 196MB/s]\rDownloading alphafold2_multimer_v3 weights to /root/.cache/colabfold:   9%|▉         | 358M/3.82G [00:01<00:18, 206MB/s]\rDownloading alphafold2_multimer_v3 weights to /root/.cache/colabfold:  10%|▉         | 380M/3.82G [00:01<00:17, 214MB/s]\rDownloading alphafold2_multimer_v3 weights to /root/.cache/colabfold:  10%|█         | 402M/3.82G [00:01<00:16, 219MB/s]\rDownloading alphafold2_multimer_v3 weights to /root/.cache/colabfold:  11%|█         | 426M/3.82G [00:01<00:16, 226MB/s]\rDownloading alphafold2_multimer_v3 weights to /root/.cache/colabfold:  11%|█▏        | 447M/3.82G [00:02<00:18, 198MB/s]\rDownloading alphafold2_multimer_v3 weights to /root/.cache/colabfold:  12%|█▏        | 467M/3.82G [00:02<00:18, 199MB/s]\rDownloading alphafold2_multimer_v3 weights to /root/.cache/colabfold:  12%|█▏        | 487M/3.82G [00:02<00:17, 202MB/s]\rDownloading alphafold2_multimer_v3 weights to /root/.cache/colabfold:  13%|█▎        | 507M/3.82G [00:02<00:17, 203MB/s]\rDownloading alphafold2_multimer_v3 weights to /root/.cache/colabfold:  13%|█▎        | 526M/3.82G [00:02<00:18, 192MB/s]\rDownloading alphafold2_multimer_v3 weights to /root/.cache/colabfold:  14%|█▍        | 545M/3.82G [00:02<00:18, 190MB/s]\rDownloading alphafold2_multimer_v3 weights to /root/.cache/colabfold:  14%|█▍        | 563M/3.82G [00:03<01:14, 46.8MB/s]\rDownloading alphafold2_multimer_v3 weights to /root/.cache/colabfold:  15%|█▍        | 577M/3.82G [00:05<02:36, 22.4MB/s]\rDownloading alphafold2_multimer_v3 weights to /root/.cache/colabfold:  15%|█▌        | 601M/3.82G [00:05<01:41, 34.1MB/s]\rDownloading alphafold2_multimer_v3 weights to /root/.cache/colabfold:  16%|█▌        | 615M/3.82G [00:05<01:24, 41.0MB/s]\rDownloading alphafold2_multimer_v3 weights to /root/.cache/colabfold:  16%|█▌        | 629M/3.82G [00:05<01:09, 49.2MB/s]\rDownloading alphafold2_multimer_v3 weights to /root/.cache/colabfold:  17%|█▋        | 652M/3.82G [00:05<00:48, 70.5MB/s]\rDownloading alphafold2_multimer_v3 weights to /root/.cache/colabfold:  17%|█▋        | 678M/3.82G [00:06<00:35, 96.8MB/s]\rDownloading alphafold2_multimer_v3 weights to /root/.cache/colabfold:  18%|█▊        | 699M/3.82G [00:06<00:28, 117MB/s] \rDownloading alphafold2_multimer_v3 weights to /root/.cache/colabfold:  18%|█▊        | 721M/3.82G [00:06<00:24, 138MB/s]\rDownloading alphafold2_multimer_v3 weights to /root/.cache/colabfold:  19%|█▉        | 746M/3.82G [00:06<00:20, 164MB/s]\rDownloading alphafold2_multimer_v3 weights to /root/.cache/colabfold:  20%|█▉        | 772M/3.82G [00:06<00:17, 189MB/s]\rDownloading alphafold2_multimer_v3 weights to /root/.cache/colabfold:  20%|██        | 799M/3.82G [00:06<00:15, 212MB/s]\rDownloading alphafold2_multimer_v3 weights to /root/.cache/colabfold:  21%|██        | 823M/3.82G [00:06<00:14, 217MB/s]\rDownloading alphafold2_multimer_v3 weights to /root/.cache/colabfold:  22%|██▏       | 849M/3.82G [00:06<00:13, 232MB/s]\rDownloading alphafold2_multimer_v3 weights to /root/.cache/colabfold:  22%|██▏       | 874M/3.82G [00:06<00:13, 241MB/s]\rDownloading alphafold2_multimer_v3 weights to /root/.cache/colabfold:  23%|██▎       | 901M/3.82G [00:07<00:12, 252MB/s]\rDownloading alphafold2_multimer_v3 weights to /root/.cache/colabfold:  24%|██▎       | 928M/3.82G [00:07<00:12, 260MB/s]\rDownloading alphafold2_multimer_v3 weights to /root/.cache/colabfold:  24%|██▍       | 954M/3.82G [00:07<00:11, 263MB/s]\rDownloading alphafold2_multimer_v3 weights to /root/.cache/colabfold:  25%|██▌       | 980M/3.82G [00:07<00:11, 266MB/s]\rDownloading alphafold2_multimer_v3 weights to /root/.cache/colabfold:  26%|██▌       | 0.98G/3.82G [00:07<00:11, 265MB/s]\rDownloading alphafold2_multimer_v3 weights to /root/.cache/colabfold:  26%|██▋       | 1.01G/3.82G [00:07<00:11, 268MB/s]\rDownloading alphafold2_multimer_v3 weights to /root/.cache/colabfold:  27%|██▋       | 1.04G/3.82G [00:07<00:10, 282MB/s]\rDownloading alphafold2_multimer_v3 weights to /root/.cache/colabfold:  28%|██▊       | 1.06G/3.82G [00:07<00:15, 192MB/s]\rDownloading alphafold2_multimer_v3 weights to /root/.cache/colabfold:  28%|██▊       | 1.08G/3.82G [00:08<00:17, 170MB/s]\rDownloading alphafold2_multimer_v3 weights to /root/.cache/colabfold:  29%|██▉       | 1.10G/3.82G [00:08<00:23, 122MB/s]\rDownloading alphafold2_multimer_v3 weights to /root/.cache/colabfold:  29%|██▉       | 1.12G/3.82G [00:08<00:23, 125MB/s]\rDownloading alphafold2_multimer_v3 weights to /root/.cache/colabfold:  30%|██▉       | 1.15G/3.82G [00:08<00:18, 157MB/s]\rDownloading alphafold2_multimer_v3 weights to /root/.cache/colabfold:  31%|███       | 1.17G/3.82G [00:08<00:15, 183MB/s]\rDownloading alphafold2_multimer_v3 weights to /root/.cache/colabfold:  31%|███▏      | 1.19G/3.82G [00:08<00:14, 199MB/s]\rDownloading alphafold2_multimer_v3 weights to /root/.cache/colabfold:  32%|███▏      | 1.22G/3.82G [00:08<00:12, 226MB/s]\rDownloading alphafold2_multimer_v3 weights to /root/.cache/colabfold:  33%|███▎      | 1.25G/3.82G [00:08<00:11, 247MB/s]\rDownloading alphafold2_multimer_v3 weights to /root/.cache/colabfold:  33%|███▎      | 1.28G/3.82G [00:09<00:10, 259MB/s]\rDownloading alphafold2_multimer_v3 weights to /root/.cache/colabfold:  34%|███▍      | 1.30G/3.82G [00:09<00:21, 127MB/s]\rDownloading alphafold2_multimer_v3 weights to /root/.cache/colabfold:  35%|███▍      | 1.32G/3.82G [00:10<00:29, 90.0MB/s]\rDownloading alphafold2_multimer_v3 weights to /root/.cache/colabfold:  35%|███▌      | 1.34G/3.82G [00:11<01:23, 32.0MB/s]\rDownloading alphafold2_multimer_v3 weights to /root/.cache/colabfold:  36%|███▌      | 1.36G/3.82G [00:11<01:04, 41.2MB/s]\rDownloading alphafold2_multimer_v3 weights to /root/.cache/colabfold:  36%|███▌      | 1.37G/3.82G [00:11<00:55, 47.6MB/s]\rDownloading alphafold2_multimer_v3 weights to /root/.cache/colabfold:  36%|███▋      | 1.39G/3.82G [00:12<00:40, 64.0MB/s]\rDownloading alphafold2_multimer_v3 weights to /root/.cache/colabfold:  37%|███▋      | 1.41G/3.82G [00:12<00:31, 82.2MB/s]\rDownloading alphafold2_multimer_v3 weights to /root/.cache/colabfold:  38%|███▊      | 1.44G/3.82G [00:12<00:24, 106MB/s] \rDownloading alphafold2_multimer_v3 weights to /root/.cache/colabfold:  38%|███▊      | 1.46G/3.82G [00:12<00:20, 122MB/s]\rDownloading alphafold2_multimer_v3 weights to /root/.cache/colabfold:  39%|███▉      | 1.48G/3.82G [00:12<00:16, 153MB/s]\rDownloading alphafold2_multimer_v3 weights to /root/.cache/colabfold:  39%|███▉      | 1.51G/3.82G [00:12<00:14, 175MB/s]\rDownloading alphafold2_multimer_v3 weights to /root/.cache/colabfold:  40%|████      | 1.53G/3.82G [00:12<00:12, 196MB/s]\rDownloading alphafold2_multimer_v3 weights to /root/.cache/colabfold:  41%|████      | 1.55G/3.82G [00:12<00:11, 212MB/s]\rDownloading alphafold2_multimer_v3 weights to /root/.cache/colabfold:  41%|████▏     | 1.58G/3.82G [00:12<00:11, 218MB/s]\rDownloading alphafold2_multimer_v3 weights to /root/.cache/colabfold:  42%|████▏     | 1.60G/3.82G [00:12<00:10, 236MB/s]\rDownloading alphafold2_multimer_v3 weights to /root/.cache/colabfold:  43%|████▎     | 1.63G/3.82G [00:13<00:09, 246MB/s]\rDownloading alphafold2_multimer_v3 weights to /root/.cache/colabfold:  43%|████▎     | 1.65G/3.82G [00:13<00:09, 254MB/s]\rDownloading alphafold2_multimer_v3 weights to /root/.cache/colabfold:  44%|████▍     | 1.68G/3.82G [00:13<00:08, 259MB/s]\rDownloading alphafold2_multimer_v3 weights to /root/.cache/colabfold:  45%|████▍     | 1.70G/3.82G [00:13<00:08, 259MB/s]\rDownloading alphafold2_multimer_v3 weights to /root/.cache/colabfold:  45%|████▌     | 1.73G/3.82G [00:13<00:08, 262MB/s]\rDownloading alphafold2_multimer_v3 weights to /root/.cache/colabfold:  46%|████▌     | 1.75G/3.82G [00:13<00:08, 262MB/s]\rDownloading alphafold2_multimer_v3 weights to /root/.cache/colabfold:  47%|████▋     | 1.78G/3.82G [00:13<00:08, 262MB/s]\rDownloading alphafold2_multimer_v3 weights to /root/.cache/colabfold:  47%|████▋     | 1.80G/3.82G [00:13<00:08, 248MB/s]\rDownloading alphafold2_multimer_v3 weights to /root/.cache/colabfold:  48%|████▊     | 1.83G/3.82G [00:13<00:09, 225MB/s]\rDownloading alphafold2_multimer_v3 weights to /root/.cache/colabfold:  48%|████▊     | 1.85G/3.82G [00:14<00:09, 221MB/s]\rDownloading alphafold2_multimer_v3 weights to /root/.cache/colabfold:  49%|████▉     | 1.87G/3.82G [00:14<00:09, 218MB/s]\rDownloading alphafold2_multimer_v3 weights to /root/.cache/colabfold:  49%|████▉     | 1.89G/3.82G [00:14<00:09, 208MB/s]\rDownloading alphafold2_multimer_v3 weights to /root/.cache/colabfold:  50%|████▉     | 1.91G/3.82G [00:14<00:10, 198MB/s]\rDownloading alphafold2_multimer_v3 weights to /root/.cache/colabfold:  50%|█████     | 1.93G/3.82G [00:14<00:16, 120MB/s]\rDownloading alphafold2_multimer_v3 weights to /root/.cache/colabfold:  51%|█████     | 1.94G/3.82G [00:14<00:15, 131MB/s]\rDownloading alphafold2_multimer_v3 weights to /root/.cache/colabfold:  51%|█████▏    | 1.96G/3.82G [00:14<00:14, 140MB/s]\rDownloading alphafold2_multimer_v3 weights to /root/.cache/colabfold:  52%|█████▏    | 1.98G/3.82G [00:15<00:12, 161MB/s]\rDownloading alphafold2_multimer_v3 weights to /root/.cache/colabfold:  52%|█████▏    | 2.00G/3.82G [00:15<00:11, 164MB/s]\rDownloading alphafold2_multimer_v3 weights to /root/.cache/colabfold:  53%|█████▎    | 2.02G/3.82G [00:15<00:11, 174MB/s]\rDownloading alphafold2_multimer_v3 weights to /root/.cache/colabfold:  53%|█████▎    | 2.03G/3.82G [00:15<00:11, 174MB/s]\rDownloading alphafold2_multimer_v3 weights to /root/.cache/colabfold:  54%|█████▎    | 2.05G/3.82G [00:15<00:10, 173MB/s]\rDownloading alphafold2_multimer_v3 weights to /root/.cache/colabfold:  54%|█████▍    | 2.07G/3.82G [00:15<00:11, 167MB/s]\rDownloading alphafold2_multimer_v3 weights to /root/.cache/colabfold:  55%|█████▍    | 2.09G/3.82G [00:15<00:10, 174MB/s]\rDownloading alphafold2_multimer_v3 weights to /root/.cache/colabfold:  55%|█████▌    | 2.11G/3.82G [00:15<00:09, 184MB/s]\rDownloading alphafold2_multimer_v3 weights to /root/.cache/colabfold:  56%|█████▌    | 2.13G/3.82G [00:15<00:09, 194MB/s]\rDownloading alphafold2_multimer_v3 weights to /root/.cache/colabfold:  56%|█████▌    | 2.15G/3.82G [00:15<00:09, 198MB/s]\rDownloading alphafold2_multimer_v3 weights to /root/.cache/colabfold:  57%|█████▋    | 2.16G/3.82G [00:16<00:09, 190MB/s]\rDownloading alphafold2_multimer_v3 weights to /root/.cache/colabfold:  57%|█████▋    | 2.18G/3.82G [00:16<00:09, 192MB/s]\rDownloading alphafold2_multimer_v3 weights to /root/.cache/colabfold:  58%|█████▊    | 2.20G/3.82G [00:16<00:08, 194MB/s]\rDownloading alphafold2_multimer_v3 weights to /root/.cache/colabfold:  58%|█████▊    | 2.22G/3.82G [00:16<00:08, 194MB/s]\rDownloading alphafold2_multimer_v3 weights to /root/.cache/colabfold:  59%|█████▊    | 2.24G/3.82G [00:16<00:08, 196MB/s]\rDownloading alphafold2_multimer_v3 weights to /root/.cache/colabfold:  59%|█████▉    | 2.26G/3.82G [00:16<00:08, 200MB/s]\rDownloading alphafold2_multimer_v3 weights to /root/.cache/colabfold:  60%|█████▉    | 2.28G/3.82G [00:16<00:08, 204MB/s]\rDownloading alphafold2_multimer_v3 weights to /root/.cache/colabfold:  60%|██████    | 2.30G/3.82G [00:16<00:08, 202MB/s]\rDownloading alphafold2_multimer_v3 weights to /root/.cache/colabfold:  61%|██████    | 2.32G/3.82G [00:16<00:08, 193MB/s]\rDownloading alphafold2_multimer_v3 weights to /root/.cache/colabfold:  61%|██████    | 2.33G/3.82G [00:17<00:08, 194MB/s]\rDownloading alphafold2_multimer_v3 weights to /root/.cache/colabfold:  62%|██████▏   | 2.35G/3.82G [00:17<00:08, 197MB/s]\rDownloading alphafold2_multimer_v3 weights to /root/.cache/colabfold:  62%|██████▏   | 2.37G/3.82G [00:17<00:07, 200MB/s]\rDownloading alphafold2_multimer_v3 weights to /root/.cache/colabfold:  63%|██████▎   | 2.39G/3.82G [00:17<00:07, 201MB/s]\rDownloading alphafold2_multimer_v3 weights to /root/.cache/colabfold:  63%|██████▎   | 2.41G/3.82G [00:17<00:07, 197MB/s]\rDownloading alphafold2_multimer_v3 weights to /root/.cache/colabfold:  64%|██████▎   | 2.43G/3.82G [00:17<00:07, 197MB/s]\rDownloading alphafold2_multimer_v3 weights to /root/.cache/colabfold:  64%|██████▍   | 2.45G/3.82G [00:17<00:07, 192MB/s]\rDownloading alphafold2_multimer_v3 weights to /root/.cache/colabfold:  65%|██████▍   | 2.46G/3.82G [00:17<00:07, 192MB/s]\rDownloading alphafold2_multimer_v3 weights to /root/.cache/colabfold:  65%|██████▌   | 2.48G/3.82G [00:17<00:07, 190MB/s]\rDownloading alphafold2_multimer_v3 weights to /root/.cache/colabfold:  66%|██████▌   | 2.50G/3.82G [00:17<00:06, 204MB/s]\rDownloading alphafold2_multimer_v3 weights to /root/.cache/colabfold:  66%|██████▌   | 2.53G/3.82G [00:18<00:06, 221MB/s]\rDownloading alphafold2_multimer_v3 weights to /root/.cache/colabfold:  67%|██████▋   | 2.55G/3.82G [00:18<00:05, 237MB/s]\rDownloading alphafold2_multimer_v3 weights to /root/.cache/colabfold:  67%|██████▋   | 2.58G/3.82G [00:18<00:05, 236MB/s]\rDownloading alphafold2_multimer_v3 weights to /root/.cache/colabfold:  68%|██████▊   | 2.60G/3.82G [00:18<00:05, 248MB/s]\rDownloading alphafold2_multimer_v3 weights to /root/.cache/colabfold:  69%|██████▉   | 2.63G/3.82G [00:18<00:05, 253MB/s]\rDownloading alphafold2_multimer_v3 weights to /root/.cache/colabfold:  70%|██████▉   | 2.65G/3.82G [00:18<00:04, 266MB/s]\rDownloading alphafold2_multimer_v3 weights to /root/.cache/colabfold:  70%|███████   | 2.68G/3.82G [00:18<00:04, 261MB/s]\rDownloading alphafold2_multimer_v3 weights to /root/.cache/colabfold:  71%|███████   | 2.71G/3.82G [00:18<00:04, 276MB/s]\rDownloading alphafold2_multimer_v3 weights to /root/.cache/colabfold:  72%|███████▏  | 2.73G/3.82G [00:19<00:12, 96.5MB/s]\rDownloading alphafold2_multimer_v3 weights to /root/.cache/colabfold:  72%|███████▏  | 2.76G/3.82G [00:19<00:09, 119MB/s] \rDownloading alphafold2_multimer_v3 weights to /root/.cache/colabfold:  73%|███████▎  | 2.78G/3.82G [00:19<00:08, 138MB/s]\rDownloading alphafold2_multimer_v3 weights to /root/.cache/colabfold:  73%|███████▎  | 2.80G/3.82G [00:19<00:07, 148MB/s]\rDownloading alphafold2_multimer_v3 weights to /root/.cache/colabfold:  74%|███████▍  | 2.82G/3.82G [00:21<00:33, 31.8MB/s]\rDownloading alphafold2_multimer_v3 weights to /root/.cache/colabfold:  75%|███████▍  | 2.85G/3.82G [00:22<00:23, 44.1MB/s]\rDownloading alphafold2_multimer_v3 weights to /root/.cache/colabfold:  75%|███████▌  | 2.87G/3.82G [00:22<00:16, 59.8MB/s]\rDownloading alphafold2_multimer_v3 weights to /root/.cache/colabfold:  76%|███████▌  | 2.90G/3.82G [00:22<00:12, 76.0MB/s]\rDownloading alphafold2_multimer_v3 weights to /root/.cache/colabfold:  77%|███████▋  | 2.92G/3.82G [00:22<00:10, 93.1MB/s]\rDownloading alphafold2_multimer_v3 weights to /root/.cache/colabfold:  77%|███████▋  | 2.94G/3.82G [00:22<00:08, 105MB/s] \rDownloading alphafold2_multimer_v3 weights to /root/.cache/colabfold:  78%|███████▊  | 2.96G/3.82G [00:22<00:07, 124MB/s]\rDownloading alphafold2_multimer_v3 weights to /root/.cache/colabfold:  78%|███████▊  | 2.99G/3.82G [00:22<00:05, 150MB/s]\rDownloading alphafold2_multimer_v3 weights to /root/.cache/colabfold:  79%|███████▉  | 3.01G/3.82G [00:22<00:05, 173MB/s]\rDownloading alphafold2_multimer_v3 weights to /root/.cache/colabfold:  80%|███████▉  | 3.04G/3.82G [00:22<00:04, 197MB/s]\rDownloading alphafold2_multimer_v3 weights to /root/.cache/colabfold:  80%|████████  | 3.06G/3.82G [00:23<00:04, 194MB/s]\rDownloading alphafold2_multimer_v3 weights to /root/.cache/colabfold:  81%|████████  | 3.08G/3.82G [00:23<00:03, 213MB/s]\rDownloading alphafold2_multimer_v3 weights to /root/.cache/colabfold:  81%|████████▏ | 3.11G/3.82G [00:23<00:03, 228MB/s]\rDownloading alphafold2_multimer_v3 weights to /root/.cache/colabfold:  82%|████████▏ | 3.13G/3.82G [00:23<00:03, 232MB/s]\rDownloading alphafold2_multimer_v3 weights to /root/.cache/colabfold:  83%|████████▎ | 3.16G/3.82G [00:23<00:03, 236MB/s]\rDownloading alphafold2_multimer_v3 weights to /root/.cache/colabfold:  83%|████████▎ | 3.18G/3.82G [00:23<00:02, 244MB/s]\rDownloading alphafold2_multimer_v3 weights to /root/.cache/colabfold:  84%|████████▍ | 3.20G/3.82G [00:23<00:02, 249MB/s]\rDownloading alphafold2_multimer_v3 weights to /root/.cache/colabfold:  85%|████████▍ | 3.23G/3.82G [00:23<00:02, 255MB/s]\rDownloading alphafold2_multimer_v3 weights to /root/.cache/colabfold:  85%|████████▌ | 3.25G/3.82G [00:23<00:02, 259MB/s]\rDownloading alphafold2_multimer_v3 weights to /root/.cache/colabfold:  86%|████████▌ | 3.28G/3.82G [00:23<00:02, 268MB/s]\rDownloading alphafold2_multimer_v3 weights to /root/.cache/colabfold:  87%|████████▋ | 3.31G/3.82G [00:24<00:02, 263MB/s]\rDownloading alphafold2_multimer_v3 weights to /root/.cache/colabfold:  87%|████████▋ | 3.33G/3.82G [00:24<00:01, 271MB/s]\rDownloading alphafold2_multimer_v3 weights to /root/.cache/colabfold:  88%|████████▊ | 3.36G/3.82G [00:24<00:01, 261MB/s]\rDownloading alphafold2_multimer_v3 weights to /root/.cache/colabfold:  89%|████████▊ | 3.38G/3.82G [00:24<00:01, 262MB/s]\rDownloading alphafold2_multimer_v3 weights to /root/.cache/colabfold:  89%|████████▉ | 3.41G/3.82G [00:24<00:01, 247MB/s]\rDownloading alphafold2_multimer_v3 weights to /root/.cache/colabfold:  90%|████████▉ | 3.43G/3.82G [00:24<00:01, 247MB/s]\rDownloading alphafold2_multimer_v3 weights to /root/.cache/colabfold:  91%|█████████ | 3.46G/3.82G [00:24<00:01, 259MB/s]\rDownloading alphafold2_multimer_v3 weights to /root/.cache/colabfold:  91%|█████████ | 3.48G/3.82G [00:24<00:01, 255MB/s]\rDownloading alphafold2_multimer_v3 weights to /root/.cache/colabfold:  92%|█████████▏| 3.51G/3.82G [00:24<00:01, 261MB/s]\rDownloading alphafold2_multimer_v3 weights to /root/.cache/colabfold:  93%|█████████▎| 3.53G/3.82G [00:25<00:01, 261MB/s]\rDownloading alphafold2_multimer_v3 weights to /root/.cache/colabfold:  93%|█████████▎| 3.56G/3.82G [00:25<00:01, 264MB/s]\rDownloading alphafold2_multimer_v3 weights to /root/.cache/colabfold:  94%|█████████▍| 3.58G/3.82G [00:25<00:00, 267MB/s]\rDownloading alphafold2_multimer_v3 weights to /root/.cache/colabfold:  94%|█████████▍| 3.61G/3.82G [00:25<00:00, 268MB/s]\rDownloading alphafold2_multimer_v3 weights to /root/.cache/colabfold:  95%|█████████▌| 3.63G/3.82G [00:25<00:00, 268MB/s]\rDownloading alphafold2_multimer_v3 weights to /root/.cache/colabfold:  96%|█████████▌| 3.66G/3.82G [00:25<00:00, 254MB/s]\rDownloading alphafold2_multimer_v3 weights to /root/.cache/colabfold:  96%|█████████▋| 3.68G/3.82G [00:25<00:00, 260MB/s]\rDownloading alphafold2_multimer_v3 weights to /root/.cache/colabfold:  97%|█████████▋| 3.71G/3.82G [00:25<00:00, 266MB/s]\rDownloading alphafold2_multimer_v3 weights to /root/.cache/colabfold:  98%|█████████▊| 3.74G/3.82G [00:25<00:00, 271MB/s]\rDownloading alphafold2_multimer_v3 weights to /root/.cache/colabfold:  99%|█████████▊| 3.76G/3.82G [00:25<00:00, 274MB/s]\rDownloading alphafold2_multimer_v3 weights to /root/.cache/colabfold:  99%|█████████▉| 3.79G/3.82G [00:26<00:00, 272MB/s]\rDownloading alphafold2_multimer_v3 weights to /root/.cache/colabfold: 100%|█████████▉| 3.82G/3.82G [00:26<00:00, 281MB/s]\rDownloading alphafold2_multimer_v3 weights to /root/.cache/colabfold: 100%|██████████| 3.82G/3.82G [00:26<00:00, 157MB/s]\n",
            "\rDownloading AlphaFold2-ptm weights to /root/.cache/colabfold:   0%|          | 0/3722752000 [00:00<?, ?it/s]\rDownloading AlphaFold2-ptm weights to /root/.cache/colabfold:   0%|          | 6.01M/3.47G [00:00<01:00, 61.6MB/s]\rDownloading AlphaFold2-ptm weights to /root/.cache/colabfold:   1%|          | 20.6M/3.47G [00:00<00:32, 115MB/s] \rDownloading AlphaFold2-ptm weights to /root/.cache/colabfold:   1%|          | 32.0M/3.47G [00:00<00:34, 108MB/s]\rDownloading AlphaFold2-ptm weights to /root/.cache/colabfold:   1%|▏         | 47.0M/3.47G [00:00<00:29, 126MB/s]\rDownloading AlphaFold2-ptm weights to /root/.cache/colabfold:   2%|▏         | 60.2M/3.47G [00:00<00:28, 131MB/s]\rDownloading AlphaFold2-ptm weights to /root/.cache/colabfold:   2%|▏         | 78.5M/3.47G [00:00<00:24, 150MB/s]\rDownloading AlphaFold2-ptm weights to /root/.cache/colabfold:   3%|▎         | 100M/3.47G [00:00<00:21, 170MB/s] \rDownloading AlphaFold2-ptm weights to /root/.cache/colabfold:   3%|▎         | 116M/3.47G [00:00<00:21, 164MB/s]\rDownloading AlphaFold2-ptm weights to /root/.cache/colabfold:   4%|▍         | 139M/3.47G [00:00<00:19, 185MB/s]\rDownloading AlphaFold2-ptm weights to /root/.cache/colabfold:   5%|▍         | 160M/3.47G [00:01<00:17, 198MB/s]\rDownloading AlphaFold2-ptm weights to /root/.cache/colabfold:   5%|▌         | 183M/3.47G [00:01<00:16, 209MB/s]\rDownloading AlphaFold2-ptm weights to /root/.cache/colabfold:   6%|▌         | 204M/3.47G [00:01<00:16, 212MB/s]\rDownloading AlphaFold2-ptm weights to /root/.cache/colabfold:   6%|▋         | 224M/3.47G [00:01<00:18, 194MB/s]\rDownloading AlphaFold2-ptm weights to /root/.cache/colabfold:   7%|▋         | 246M/3.47G [00:01<00:17, 203MB/s]\rDownloading AlphaFold2-ptm weights to /root/.cache/colabfold:   7%|▋         | 265M/3.47G [00:01<00:18, 187MB/s]\rDownloading AlphaFold2-ptm weights to /root/.cache/colabfold:   8%|▊         | 285M/3.47G [00:01<00:17, 193MB/s]\rDownloading AlphaFold2-ptm weights to /root/.cache/colabfold:   9%|▊         | 304M/3.47G [00:01<00:17, 194MB/s]\rDownloading AlphaFold2-ptm weights to /root/.cache/colabfold:   9%|▉         | 326M/3.47G [00:01<00:16, 206MB/s]\rDownloading AlphaFold2-ptm weights to /root/.cache/colabfold:  10%|▉         | 346M/3.47G [00:02<00:16, 203MB/s]\rDownloading AlphaFold2-ptm weights to /root/.cache/colabfold:  10%|█         | 366M/3.47G [00:02<00:21, 153MB/s]\rDownloading AlphaFold2-ptm weights to /root/.cache/colabfold:  11%|█         | 387M/3.47G [00:02<00:19, 169MB/s]\rDownloading AlphaFold2-ptm weights to /root/.cache/colabfold:  11%|█▏        | 405M/3.47G [00:02<00:19, 173MB/s]\rDownloading AlphaFold2-ptm weights to /root/.cache/colabfold:  12%|█▏        | 424M/3.47G [00:02<00:18, 179MB/s]\rDownloading AlphaFold2-ptm weights to /root/.cache/colabfold:  13%|█▎        | 445M/3.47G [00:02<00:17, 191MB/s]\rDownloading AlphaFold2-ptm weights to /root/.cache/colabfold:  13%|█▎        | 464M/3.47G [00:02<00:16, 191MB/s]\rDownloading AlphaFold2-ptm weights to /root/.cache/colabfold:  14%|█▎        | 487M/3.47G [00:02<00:15, 205MB/s]\rDownloading AlphaFold2-ptm weights to /root/.cache/colabfold:  14%|█▍        | 509M/3.47G [00:02<00:15, 212MB/s]\rDownloading AlphaFold2-ptm weights to /root/.cache/colabfold:  15%|█▍        | 530M/3.47G [00:03<00:17, 177MB/s]\rDownloading AlphaFold2-ptm weights to /root/.cache/colabfold:  15%|█▌        | 548M/3.47G [00:03<00:17, 179MB/s]\rDownloading AlphaFold2-ptm weights to /root/.cache/colabfold:  16%|█▌        | 568M/3.47G [00:03<00:16, 187MB/s]\rDownloading AlphaFold2-ptm weights to /root/.cache/colabfold:  17%|█▋        | 588M/3.47G [00:03<00:15, 195MB/s]\rDownloading AlphaFold2-ptm weights to /root/.cache/colabfold:  17%|█▋        | 607M/3.47G [00:03<00:15, 197MB/s]\rDownloading AlphaFold2-ptm weights to /root/.cache/colabfold:  18%|█▊        | 631M/3.47G [00:03<00:14, 210MB/s]\rDownloading AlphaFold2-ptm weights to /root/.cache/colabfold:  18%|█▊        | 653M/3.47G [00:03<00:13, 218MB/s]\rDownloading AlphaFold2-ptm weights to /root/.cache/colabfold:  19%|█▉        | 676M/3.47G [00:03<00:13, 224MB/s]\rDownloading AlphaFold2-ptm weights to /root/.cache/colabfold:  20%|█▉        | 698M/3.47G [00:03<00:15, 189MB/s]\rDownloading AlphaFold2-ptm weights to /root/.cache/colabfold:  20%|██        | 720M/3.47G [00:04<00:14, 201MB/s]\rDownloading AlphaFold2-ptm weights to /root/.cache/colabfold:  21%|██        | 740M/3.47G [00:04<00:14, 203MB/s]\rDownloading AlphaFold2-ptm weights to /root/.cache/colabfold:  21%|██▏       | 760M/3.47G [00:04<00:14, 195MB/s]\rDownloading AlphaFold2-ptm weights to /root/.cache/colabfold:  22%|██▏       | 781M/3.47G [00:04<00:14, 201MB/s]\rDownloading AlphaFold2-ptm weights to /root/.cache/colabfold:  23%|██▎       | 801M/3.47G [00:04<00:14, 204MB/s]\rDownloading AlphaFold2-ptm weights to /root/.cache/colabfold:  23%|██▎       | 821M/3.47G [00:04<00:14, 201MB/s]\rDownloading AlphaFold2-ptm weights to /root/.cache/colabfold:  24%|██▎       | 841M/3.47G [00:04<00:13, 203MB/s]\rDownloading AlphaFold2-ptm weights to /root/.cache/colabfold:  24%|██▍       | 865M/3.47G [00:04<00:12, 217MB/s]\rDownloading AlphaFold2-ptm weights to /root/.cache/colabfold:  25%|██▍       | 885M/3.47G [00:04<00:13, 200MB/s]\rDownloading AlphaFold2-ptm weights to /root/.cache/colabfold:  26%|██▌       | 906M/3.47G [00:05<00:13, 205MB/s]\rDownloading AlphaFold2-ptm weights to /root/.cache/colabfold:  26%|██▌       | 926M/3.47G [00:05<00:13, 207MB/s]\rDownloading AlphaFold2-ptm weights to /root/.cache/colabfold:  27%|██▋       | 947M/3.47G [00:05<00:13, 209MB/s]\rDownloading AlphaFold2-ptm weights to /root/.cache/colabfold:  27%|██▋       | 969M/3.47G [00:05<00:12, 217MB/s]\rDownloading AlphaFold2-ptm weights to /root/.cache/colabfold:  28%|██▊       | 990M/3.47G [00:05<00:13, 195MB/s]\rDownloading AlphaFold2-ptm weights to /root/.cache/colabfold:  28%|██▊       | 0.99G/3.47G [00:05<00:14, 178MB/s]\rDownloading AlphaFold2-ptm weights to /root/.cache/colabfold:  29%|██▉       | 1.00G/3.47G [00:05<00:15, 170MB/s]\rDownloading AlphaFold2-ptm weights to /root/.cache/colabfold:  29%|██▉       | 1.02G/3.47G [00:05<00:14, 176MB/s]\rDownloading AlphaFold2-ptm weights to /root/.cache/colabfold:  30%|██▉       | 1.04G/3.47G [00:05<00:14, 176MB/s]\rDownloading AlphaFold2-ptm weights to /root/.cache/colabfold:  30%|███       | 1.05G/3.47G [00:06<00:14, 176MB/s]\rDownloading AlphaFold2-ptm weights to /root/.cache/colabfold:  31%|███       | 1.08G/3.47G [00:06<00:13, 189MB/s]\rDownloading AlphaFold2-ptm weights to /root/.cache/colabfold:  32%|███▏      | 1.09G/3.47G [00:09<02:39, 16.0MB/s]\rDownloading AlphaFold2-ptm weights to /root/.cache/colabfold:  32%|███▏      | 1.12G/3.47G [00:10<01:47, 23.4MB/s]\rDownloading AlphaFold2-ptm weights to /root/.cache/colabfold:  33%|███▎      | 1.13G/3.47G [00:10<01:28, 28.3MB/s]\rDownloading AlphaFold2-ptm weights to /root/.cache/colabfold:  33%|███▎      | 1.14G/3.47G [00:10<01:14, 33.4MB/s]\rDownloading AlphaFold2-ptm weights to /root/.cache/colabfold:  33%|███▎      | 1.15G/3.47G [00:10<01:05, 38.1MB/s]\rDownloading AlphaFold2-ptm weights to /root/.cache/colabfold:  34%|███▎      | 1.16G/3.47G [00:10<00:57, 43.2MB/s]\rDownloading AlphaFold2-ptm weights to /root/.cache/colabfold:  34%|███▍      | 1.18G/3.47G [00:10<00:44, 55.1MB/s]\rDownloading AlphaFold2-ptm weights to /root/.cache/colabfold:  34%|███▍      | 1.19G/3.47G [00:10<00:35, 69.4MB/s]\rDownloading AlphaFold2-ptm weights to /root/.cache/colabfold:  35%|███▍      | 1.20G/3.47G [00:11<00:31, 78.0MB/s]\rDownloading AlphaFold2-ptm weights to /root/.cache/colabfold:  35%|███▌      | 1.21G/3.47G [00:11<00:28, 85.8MB/s]\rDownloading AlphaFold2-ptm weights to /root/.cache/colabfold:  35%|███▌      | 1.23G/3.47G [00:11<00:22, 105MB/s] \rDownloading AlphaFold2-ptm weights to /root/.cache/colabfold:  36%|███▌      | 1.25G/3.47G [00:11<00:19, 120MB/s]\rDownloading AlphaFold2-ptm weights to /root/.cache/colabfold:  36%|███▋      | 1.26G/3.47G [00:11<00:18, 128MB/s]\rDownloading AlphaFold2-ptm weights to /root/.cache/colabfold:  37%|███▋      | 1.28G/3.47G [00:11<00:15, 152MB/s]\rDownloading AlphaFold2-ptm weights to /root/.cache/colabfold:  38%|███▊      | 1.30G/3.47G [00:11<00:14, 156MB/s]\rDownloading AlphaFold2-ptm weights to /root/.cache/colabfold:  38%|███▊      | 1.32G/3.47G [00:11<00:13, 165MB/s]\rDownloading AlphaFold2-ptm weights to /root/.cache/colabfold:  39%|███▊      | 1.34G/3.47G [00:11<00:13, 164MB/s]\rDownloading AlphaFold2-ptm weights to /root/.cache/colabfold:  39%|███▉      | 1.36G/3.47G [00:12<00:12, 180MB/s]\rDownloading AlphaFold2-ptm weights to /root/.cache/colabfold:  40%|███▉      | 1.38G/3.47G [00:12<00:10, 206MB/s]\rDownloading AlphaFold2-ptm weights to /root/.cache/colabfold:  41%|████      | 1.41G/3.47G [00:12<00:10, 210MB/s]\rDownloading AlphaFold2-ptm weights to /root/.cache/colabfold:  41%|████      | 1.43G/3.47G [00:12<00:10, 208MB/s]\rDownloading AlphaFold2-ptm weights to /root/.cache/colabfold:  42%|████▏     | 1.45G/3.47G [00:12<00:09, 227MB/s]\rDownloading AlphaFold2-ptm weights to /root/.cache/colabfold:  42%|████▏     | 1.47G/3.47G [00:12<00:09, 228MB/s]\rDownloading AlphaFold2-ptm weights to /root/.cache/colabfold:  43%|████▎     | 1.50G/3.47G [00:12<00:08, 239MB/s]\rDownloading AlphaFold2-ptm weights to /root/.cache/colabfold:  44%|████▍     | 1.52G/3.47G [00:12<00:10, 208MB/s]\rDownloading AlphaFold2-ptm weights to /root/.cache/colabfold:  44%|████▍     | 1.54G/3.47G [00:12<00:09, 213MB/s]\rDownloading AlphaFold2-ptm weights to /root/.cache/colabfold:  45%|████▌     | 1.57G/3.47G [00:12<00:08, 228MB/s]\rDownloading AlphaFold2-ptm weights to /root/.cache/colabfold:  46%|████▌     | 1.59G/3.47G [00:13<00:08, 240MB/s]\rDownloading AlphaFold2-ptm weights to /root/.cache/colabfold:  47%|████▋     | 1.61G/3.47G [00:13<00:10, 196MB/s]\rDownloading AlphaFold2-ptm weights to /root/.cache/colabfold:  47%|████▋     | 1.64G/3.47G [00:13<00:08, 227MB/s]\rDownloading AlphaFold2-ptm weights to /root/.cache/colabfold:  48%|████▊     | 1.67G/3.47G [00:13<00:08, 223MB/s]\rDownloading AlphaFold2-ptm weights to /root/.cache/colabfold:  49%|████▉     | 1.69G/3.47G [00:13<00:08, 237MB/s]\rDownloading AlphaFold2-ptm weights to /root/.cache/colabfold:  50%|████▉     | 1.72G/3.47G [00:13<00:07, 249MB/s]\rDownloading AlphaFold2-ptm weights to /root/.cache/colabfold:  50%|█████     | 1.74G/3.47G [00:13<00:10, 176MB/s]\rDownloading AlphaFold2-ptm weights to /root/.cache/colabfold:  51%|█████     | 1.77G/3.47G [00:14<00:08, 204MB/s]\rDownloading AlphaFold2-ptm weights to /root/.cache/colabfold:  52%|█████▏    | 1.80G/3.47G [00:14<00:07, 226MB/s]\rDownloading AlphaFold2-ptm weights to /root/.cache/colabfold:  53%|█████▎    | 1.82G/3.47G [00:14<00:08, 220MB/s]\rDownloading AlphaFold2-ptm weights to /root/.cache/colabfold:  53%|█████▎    | 1.85G/3.47G [00:14<00:07, 235MB/s]\rDownloading AlphaFold2-ptm weights to /root/.cache/colabfold:  54%|█████▍    | 1.87G/3.47G [00:14<00:07, 243MB/s]\rDownloading AlphaFold2-ptm weights to /root/.cache/colabfold:  55%|█████▍    | 1.90G/3.47G [00:14<00:06, 249MB/s]\rDownloading AlphaFold2-ptm weights to /root/.cache/colabfold:  55%|█████▌    | 1.92G/3.47G [00:14<00:06, 256MB/s]\rDownloading AlphaFold2-ptm weights to /root/.cache/colabfold:  56%|█████▌    | 1.95G/3.47G [00:14<00:06, 260MB/s]\rDownloading AlphaFold2-ptm weights to /root/.cache/colabfold:  57%|█████▋    | 1.97G/3.47G [00:14<00:06, 263MB/s]\rDownloading AlphaFold2-ptm weights to /root/.cache/colabfold:  58%|█████▊    | 2.00G/3.47G [00:14<00:06, 254MB/s]\rDownloading AlphaFold2-ptm weights to /root/.cache/colabfold:  58%|█████▊    | 2.02G/3.47G [00:15<00:06, 226MB/s]\rDownloading AlphaFold2-ptm weights to /root/.cache/colabfold:  59%|█████▉    | 2.05G/3.47G [00:15<00:06, 238MB/s]\rDownloading AlphaFold2-ptm weights to /root/.cache/colabfold:  60%|█████▉    | 2.07G/3.47G [00:15<00:06, 247MB/s]\rDownloading AlphaFold2-ptm weights to /root/.cache/colabfold:  60%|██████    | 2.10G/3.47G [00:15<00:05, 250MB/s]\rDownloading AlphaFold2-ptm weights to /root/.cache/colabfold:  61%|██████    | 2.12G/3.47G [00:15<00:05, 254MB/s]\rDownloading AlphaFold2-ptm weights to /root/.cache/colabfold:  62%|██████▏   | 2.15G/3.47G [00:15<00:05, 265MB/s]\rDownloading AlphaFold2-ptm weights to /root/.cache/colabfold:  63%|██████▎   | 2.17G/3.47G [00:15<00:05, 248MB/s]\rDownloading AlphaFold2-ptm weights to /root/.cache/colabfold:  63%|██████▎   | 2.20G/3.47G [00:15<00:05, 256MB/s]\rDownloading AlphaFold2-ptm weights to /root/.cache/colabfold:  64%|██████▍   | 2.22G/3.47G [00:15<00:05, 253MB/s]\rDownloading AlphaFold2-ptm weights to /root/.cache/colabfold:  65%|██████▍   | 2.25G/3.47G [00:16<00:05, 236MB/s]\rDownloading AlphaFold2-ptm weights to /root/.cache/colabfold:  65%|██████▌   | 2.27G/3.47G [00:16<00:05, 230MB/s]\rDownloading AlphaFold2-ptm weights to /root/.cache/colabfold:  66%|██████▌   | 2.29G/3.47G [00:16<00:05, 213MB/s]\rDownloading AlphaFold2-ptm weights to /root/.cache/colabfold:  67%|██████▋   | 2.31G/3.47G [00:16<00:05, 213MB/s]\rDownloading AlphaFold2-ptm weights to /root/.cache/colabfold:  67%|██████▋   | 2.33G/3.47G [00:16<00:05, 206MB/s]\rDownloading AlphaFold2-ptm weights to /root/.cache/colabfold:  68%|██████▊   | 2.35G/3.47G [00:16<00:05, 205MB/s]\rDownloading AlphaFold2-ptm weights to /root/.cache/colabfold:  68%|██████▊   | 2.37G/3.47G [00:16<00:05, 209MB/s]\rDownloading AlphaFold2-ptm weights to /root/.cache/colabfold:  69%|██████▉   | 2.39G/3.47G [00:16<00:05, 200MB/s]\rDownloading AlphaFold2-ptm weights to /root/.cache/colabfold:  70%|██████▉   | 2.41G/3.47G [00:16<00:05, 210MB/s]\rDownloading AlphaFold2-ptm weights to /root/.cache/colabfold:  70%|███████   | 2.43G/3.47G [00:17<00:05, 208MB/s]\rDownloading AlphaFold2-ptm weights to /root/.cache/colabfold:  71%|███████   | 2.45G/3.47G [00:17<00:05, 205MB/s]\rDownloading AlphaFold2-ptm weights to /root/.cache/colabfold:  71%|███████▏  | 2.47G/3.47G [00:17<00:05, 211MB/s]\rDownloading AlphaFold2-ptm weights to /root/.cache/colabfold:  72%|███████▏  | 2.49G/3.47G [00:17<00:04, 214MB/s]\rDownloading AlphaFold2-ptm weights to /root/.cache/colabfold:  73%|███████▎  | 2.51G/3.47G [00:17<00:04, 214MB/s]\rDownloading AlphaFold2-ptm weights to /root/.cache/colabfold:  73%|███████▎  | 2.53G/3.47G [00:17<00:04, 215MB/s]\rDownloading AlphaFold2-ptm weights to /root/.cache/colabfold:  74%|███████▎  | 2.55G/3.47G [00:17<00:05, 195MB/s]\rDownloading AlphaFold2-ptm weights to /root/.cache/colabfold:  74%|███████▍  | 2.57G/3.47G [00:17<00:05, 181MB/s]\rDownloading AlphaFold2-ptm weights to /root/.cache/colabfold:  75%|███████▍  | 2.59G/3.47G [00:17<00:05, 181MB/s]\rDownloading AlphaFold2-ptm weights to /root/.cache/colabfold:  75%|███████▌  | 2.61G/3.47G [00:18<00:04, 191MB/s]\rDownloading AlphaFold2-ptm weights to /root/.cache/colabfold:  76%|███████▌  | 2.63G/3.47G [00:18<00:04, 195MB/s]\rDownloading AlphaFold2-ptm weights to /root/.cache/colabfold:  76%|███████▋  | 2.65G/3.47G [00:18<00:04, 186MB/s]\rDownloading AlphaFold2-ptm weights to /root/.cache/colabfold:  77%|███████▋  | 2.67G/3.47G [00:18<00:04, 196MB/s]\rDownloading AlphaFold2-ptm weights to /root/.cache/colabfold:  78%|███████▊  | 2.69G/3.47G [00:18<00:04, 204MB/s]\rDownloading AlphaFold2-ptm weights to /root/.cache/colabfold:  78%|███████▊  | 2.71G/3.47G [00:18<00:03, 207MB/s]\rDownloading AlphaFold2-ptm weights to /root/.cache/colabfold:  79%|███████▊  | 2.73G/3.47G [00:18<00:03, 213MB/s]\rDownloading AlphaFold2-ptm weights to /root/.cache/colabfold:  79%|███████▉  | 2.75G/3.47G [00:18<00:03, 217MB/s]\rDownloading AlphaFold2-ptm weights to /root/.cache/colabfold:  80%|███████▉  | 2.77G/3.47G [00:18<00:03, 219MB/s]\rDownloading AlphaFold2-ptm weights to /root/.cache/colabfold:  81%|████████  | 2.79G/3.47G [00:18<00:03, 218MB/s]\rDownloading AlphaFold2-ptm weights to /root/.cache/colabfold:  81%|████████  | 2.81G/3.47G [00:19<00:03, 218MB/s]\rDownloading AlphaFold2-ptm weights to /root/.cache/colabfold:  82%|████████▏ | 2.83G/3.47G [00:19<00:03, 223MB/s]\rDownloading AlphaFold2-ptm weights to /root/.cache/colabfold:  82%|████████▏ | 2.86G/3.47G [00:19<00:03, 215MB/s]\rDownloading AlphaFold2-ptm weights to /root/.cache/colabfold:  83%|████████▎ | 2.88G/3.47G [00:19<00:03, 210MB/s]\rDownloading AlphaFold2-ptm weights to /root/.cache/colabfold:  84%|████████▎ | 2.90G/3.47G [00:19<00:03, 197MB/s]\rDownloading AlphaFold2-ptm weights to /root/.cache/colabfold:  84%|████████▍ | 2.91G/3.47G [00:19<00:03, 174MB/s]\rDownloading AlphaFold2-ptm weights to /root/.cache/colabfold:  85%|████████▍ | 2.93G/3.47G [00:19<00:03, 182MB/s]\rDownloading AlphaFold2-ptm weights to /root/.cache/colabfold:  85%|████████▌ | 2.95G/3.47G [00:19<00:02, 185MB/s]\rDownloading AlphaFold2-ptm weights to /root/.cache/colabfold:  86%|████████▌ | 2.97G/3.47G [00:19<00:02, 186MB/s]\rDownloading AlphaFold2-ptm weights to /root/.cache/colabfold:  86%|████████▌ | 2.99G/3.47G [00:20<00:02, 190MB/s]\rDownloading AlphaFold2-ptm weights to /root/.cache/colabfold:  87%|████████▋ | 3.01G/3.47G [00:20<00:02, 189MB/s]\rDownloading AlphaFold2-ptm weights to /root/.cache/colabfold:  87%|████████▋ | 3.02G/3.47G [00:20<00:02, 186MB/s]\rDownloading AlphaFold2-ptm weights to /root/.cache/colabfold:  88%|████████▊ | 3.04G/3.47G [00:20<00:02, 186MB/s]\rDownloading AlphaFold2-ptm weights to /root/.cache/colabfold:  88%|████████▊ | 3.06G/3.47G [00:20<00:02, 190MB/s]\rDownloading AlphaFold2-ptm weights to /root/.cache/colabfold:  89%|████████▉ | 3.08G/3.47G [00:20<00:02, 200MB/s]\rDownloading AlphaFold2-ptm weights to /root/.cache/colabfold:  90%|████████▉ | 3.10G/3.47G [00:20<00:01, 215MB/s]\rDownloading AlphaFold2-ptm weights to /root/.cache/colabfold:  90%|█████████ | 3.12G/3.47G [00:20<00:01, 192MB/s]\rDownloading AlphaFold2-ptm weights to /root/.cache/colabfold:  91%|█████████ | 3.15G/3.47G [00:20<00:01, 215MB/s]\rDownloading AlphaFold2-ptm weights to /root/.cache/colabfold:  92%|█████████▏| 3.17G/3.47G [00:20<00:01, 232MB/s]\rDownloading AlphaFold2-ptm weights to /root/.cache/colabfold:  92%|█████████▏| 3.20G/3.47G [00:21<00:01, 239MB/s]\rDownloading AlphaFold2-ptm weights to /root/.cache/colabfold:  93%|█████████▎| 3.22G/3.47G [00:21<00:01, 246MB/s]\rDownloading AlphaFold2-ptm weights to /root/.cache/colabfold:  94%|█████████▎| 3.25G/3.47G [00:21<00:00, 252MB/s]\rDownloading AlphaFold2-ptm weights to /root/.cache/colabfold:  94%|█████████▍| 3.27G/3.47G [00:21<00:00, 244MB/s]\rDownloading AlphaFold2-ptm weights to /root/.cache/colabfold:  95%|█████████▌| 3.30G/3.47G [00:21<00:00, 254MB/s]\rDownloading AlphaFold2-ptm weights to /root/.cache/colabfold:  96%|█████████▌| 3.32G/3.47G [00:21<00:00, 257MB/s]\rDownloading AlphaFold2-ptm weights to /root/.cache/colabfold:  97%|█████████▋| 3.35G/3.47G [00:21<00:00, 266MB/s]\rDownloading AlphaFold2-ptm weights to /root/.cache/colabfold:  97%|█████████▋| 3.38G/3.47G [00:21<00:00, 274MB/s]\rDownloading AlphaFold2-ptm weights to /root/.cache/colabfold:  98%|█████████▊| 3.40G/3.47G [00:21<00:00, 283MB/s]\rDownloading AlphaFold2-ptm weights to /root/.cache/colabfold:  99%|█████████▉| 3.43G/3.47G [00:21<00:00, 288MB/s]\rDownloading AlphaFold2-ptm weights to /root/.cache/colabfold: 100%|█████████▉| 3.46G/3.47G [00:22<00:00, 282MB/s]\rDownloading AlphaFold2-ptm weights to /root/.cache/colabfold: 100%|██████████| 3.47G/3.47G [00:22<00:00, 166MB/s]\n"
          ]
        }
      ]
    },
    {
      "cell_type": "code",
      "source": [
        "#@title Run Prediction\n",
        "\n",
        "import sys\n",
        "\n",
        "from colabfold.batch import get_queries, run\n",
        "from colabfold.download import default_data_dir\n",
        "from colabfold.utils import setup_logging\n",
        "from pathlib import Path\n",
        "\n",
        "# For some reason we need that to get pdbfixer to import\n",
        "if use_amber and f\"/usr/local/lib/python{python_version}/site-packages/\" not in sys.path:\n",
        "    sys.path.insert(0, f\"/usr/local/lib/python{python_version}/site-packages/\")\n",
        "\n",
        "setup_logging(Path(result_dir).joinpath(\"log.txt\"))\n",
        "\n",
        "queries, is_complex = get_queries(input_dir)\n",
        "run(\n",
        "    queries=queries,\n",
        "    result_dir=result_dir,\n",
        "    use_templates=use_templates,\n",
        "    num_relax=num_relax,\n",
        "    relax_max_iterations=relax_max_iterations,\n",
        "    msa_mode=msa_mode,\n",
        "    model_type=\"auto\",\n",
        "    num_models=num_models,\n",
        "    num_recycles=num_recycles,\n",
        "    model_order=[1, 2, 3, 4, 5],\n",
        "    is_complex=is_complex,\n",
        "    data_dir=default_data_dir,\n",
        "    keep_existing_results=do_not_overwrite_results,\n",
        "    rank_by=\"auto\",\n",
        "    pair_mode=\"unpaired+paired\",\n",
        "    stop_at_score=stop_at_score,\n",
        "    zip_results=zip_results,\n",
        "    user_agent=\"colabfold/google-colab-batch\",\n",
        ")"
      ],
      "metadata": {
        "colab": {
          "base_uri": "https://localhost:8080/"
        },
        "id": "-fWXmbVuamlC",
        "outputId": "b4226e9b-f739-49bb-87c4-2cbfb757bd11"
      },
      "execution_count": 9,
      "outputs": [
        {
          "output_type": "stream",
          "name": "stdout",
          "text": [
            "2025-05-12 21:18:14,634 Running on GPU\n",
            "2025-05-12 21:18:14,970 Found 5 citations for tools or databases\n",
            "2025-05-12 21:18:14,972 Query 1/13: intersection_protein_seq_1 (length 53)\n"
          ]
        },
        {
          "output_type": "stream",
          "name": "stderr",
          "text": [
            "COMPLETE: 100%|██████████| 150/150 [elapsed: 00:01 remaining: 00:00]\n"
          ]
        },
        {
          "output_type": "stream",
          "name": "stdout",
          "text": [
            "2025-05-12 21:18:29,296 Padding length to 63\n",
            "2025-05-12 21:18:56,245 alphafold2_ptm_model_1_seed_000 recycle=0 pLDDT=88.1 pTM=0.62\n",
            "2025-05-12 21:19:01,087 alphafold2_ptm_model_1_seed_000 recycle=1 pLDDT=87 pTM=0.61 tol=0.392\n",
            "2025-05-12 21:19:05,948 alphafold2_ptm_model_1_seed_000 recycle=2 pLDDT=86.4 pTM=0.604 tol=0.354\n",
            "2025-05-12 21:19:10,813 alphafold2_ptm_model_1_seed_000 recycle=3 pLDDT=85.2 pTM=0.592 tol=0.417\n",
            "2025-05-12 21:19:10,814 alphafold2_ptm_model_1_seed_000 took 41.5s (3 recycles)\n",
            "2025-05-12 21:19:10,833 reranking models by 'plddt' metric\n",
            "2025-05-12 21:19:10,833 rank_001_alphafold2_ptm_model_1_seed_000 pLDDT=85.2 pTM=0.592\n",
            "2025-05-12 21:19:11,190 Query 2/13: intersection_protein_seq_8 (length 65)\n"
          ]
        },
        {
          "output_type": "stream",
          "name": "stderr",
          "text": [
            "COMPLETE: 100%|██████████| 150/150 [elapsed: 00:00 remaining: 00:00]\n"
          ]
        },
        {
          "output_type": "stream",
          "name": "stdout",
          "text": [
            "2025-05-12 21:19:13,334 Padding length to 75\n",
            "2025-05-12 21:19:41,199 alphafold2_ptm_model_1_seed_000 recycle=0 pLDDT=54.6 pTM=0.311\n",
            "2025-05-12 21:19:46,630 alphafold2_ptm_model_1_seed_000 recycle=1 pLDDT=52.6 pTM=0.317 tol=3.29\n",
            "2025-05-12 21:19:52,080 alphafold2_ptm_model_1_seed_000 recycle=2 pLDDT=54.1 pTM=0.322 tol=3.08\n",
            "2025-05-12 21:19:57,554 alphafold2_ptm_model_1_seed_000 recycle=3 pLDDT=52.9 pTM=0.324 tol=4.62\n",
            "2025-05-12 21:19:57,562 alphafold2_ptm_model_1_seed_000 took 44.2s (3 recycles)\n",
            "2025-05-12 21:19:57,585 reranking models by 'plddt' metric\n",
            "2025-05-12 21:19:57,586 rank_001_alphafold2_ptm_model_1_seed_000 pLDDT=52.9 pTM=0.324\n",
            "2025-05-12 21:19:58,111 Query 3/13: intersection_protein_seq_13 (length 82)\n"
          ]
        },
        {
          "output_type": "stream",
          "name": "stderr",
          "text": [
            "COMPLETE: 100%|██████████| 150/150 [elapsed: 00:01 remaining: 00:00]\n"
          ]
        },
        {
          "output_type": "stream",
          "name": "stdout",
          "text": [
            "2025-05-12 21:20:02,512 Padding length to 92\n",
            "2025-05-12 21:20:29,829 alphafold2_ptm_model_1_seed_000 recycle=0 pLDDT=88.5 pTM=0.519\n",
            "2025-05-12 21:20:36,157 alphafold2_ptm_model_1_seed_000 recycle=1 pLDDT=89.2 pTM=0.53 tol=0.694\n",
            "2025-05-12 21:20:42,500 alphafold2_ptm_model_1_seed_000 recycle=2 pLDDT=89.9 pTM=0.533 tol=0.81\n",
            "2025-05-12 21:20:48,882 alphafold2_ptm_model_1_seed_000 recycle=3 pLDDT=90.5 pTM=0.537 tol=0.905\n",
            "2025-05-12 21:20:48,883 alphafold2_ptm_model_1_seed_000 took 46.4s (3 recycles)\n",
            "2025-05-12 21:20:48,913 reranking models by 'plddt' metric\n",
            "2025-05-12 21:20:48,914 rank_001_alphafold2_ptm_model_1_seed_000 pLDDT=90.5 pTM=0.537\n",
            "2025-05-12 21:20:49,469 Query 4/13: intersection_protein_seq_2 (length 93)\n"
          ]
        },
        {
          "output_type": "stream",
          "name": "stderr",
          "text": [
            "COMPLETE: 100%|██████████| 150/150 [elapsed: 00:01 remaining: 00:00]\n"
          ]
        },
        {
          "output_type": "stream",
          "name": "stdout",
          "text": [
            "2025-05-12 21:20:55,087 Padding length to 103\n",
            "2025-05-12 21:21:24,873 alphafold2_ptm_model_1_seed_000 recycle=0 pLDDT=87.1 pTM=0.738\n",
            "2025-05-12 21:21:31,972 alphafold2_ptm_model_1_seed_000 recycle=1 pLDDT=88.1 pTM=0.752 tol=1.25\n",
            "2025-05-12 21:21:39,089 alphafold2_ptm_model_1_seed_000 recycle=2 pLDDT=87.8 pTM=0.75 tol=1.06\n",
            "2025-05-12 21:21:46,238 alphafold2_ptm_model_1_seed_000 recycle=3 pLDDT=88.3 pTM=0.752 tol=0.292\n",
            "2025-05-12 21:21:46,239 alphafold2_ptm_model_1_seed_000 took 51.2s (3 recycles)\n",
            "2025-05-12 21:21:46,261 reranking models by 'plddt' metric\n",
            "2025-05-12 21:21:46,262 rank_001_alphafold2_ptm_model_1_seed_000 pLDDT=88.3 pTM=0.752\n",
            "2025-05-12 21:21:46,641 Query 5/13: intersection_protein_seq_11 (length 97)\n"
          ]
        },
        {
          "output_type": "stream",
          "name": "stderr",
          "text": [
            "COMPLETE: 100%|██████████| 150/150 [elapsed: 00:01 remaining: 00:00]\n"
          ]
        },
        {
          "output_type": "stream",
          "name": "stdout",
          "text": [
            "2025-05-12 21:21:52,502 Padding length to 103\n",
            "2025-05-12 21:21:59,788 alphafold2_ptm_model_1_seed_000 recycle=0 pLDDT=83.7 pTM=0.715\n",
            "2025-05-12 21:22:07,006 alphafold2_ptm_model_1_seed_000 recycle=1 pLDDT=85.8 pTM=0.743 tol=0.196\n",
            "2025-05-12 21:22:14,262 alphafold2_ptm_model_1_seed_000 recycle=2 pLDDT=86.2 pTM=0.746 tol=0.219\n",
            "2025-05-12 21:22:21,545 alphafold2_ptm_model_1_seed_000 recycle=3 pLDDT=86.6 pTM=0.75 tol=0.055\n",
            "2025-05-12 21:22:21,546 alphafold2_ptm_model_1_seed_000 took 29.0s (3 recycles)\n",
            "2025-05-12 21:22:21,594 reranking models by 'plddt' metric\n",
            "2025-05-12 21:22:21,594 rank_001_alphafold2_ptm_model_1_seed_000 pLDDT=86.6 pTM=0.75\n",
            "2025-05-12 21:22:22,134 Query 6/13: intersection_protein_seq_5 (length 102)\n"
          ]
        },
        {
          "output_type": "stream",
          "name": "stderr",
          "text": [
            "COMPLETE: 100%|██████████| 150/150 [elapsed: 00:00 remaining: 00:00]\n"
          ]
        },
        {
          "output_type": "stream",
          "name": "stdout",
          "text": [
            "2025-05-12 21:22:24,418 Padding length to 103\n",
            "2025-05-12 21:22:31,813 alphafold2_ptm_model_1_seed_000 recycle=0 pLDDT=61.5 pTM=0.125\n",
            "2025-05-12 21:22:39,072 alphafold2_ptm_model_1_seed_000 recycle=1 pLDDT=62.2 pTM=0.117 tol=6.92\n",
            "2025-05-12 21:22:46,346 alphafold2_ptm_model_1_seed_000 recycle=2 pLDDT=60.7 pTM=0.116 tol=6.51\n",
            "2025-05-12 21:22:53,609 alphafold2_ptm_model_1_seed_000 recycle=3 pLDDT=60.7 pTM=0.116 tol=6.66\n",
            "2025-05-12 21:22:53,610 alphafold2_ptm_model_1_seed_000 took 29.2s (3 recycles)\n",
            "2025-05-12 21:22:53,644 reranking models by 'plddt' metric\n",
            "2025-05-12 21:22:53,645 rank_001_alphafold2_ptm_model_1_seed_000 pLDDT=60.7 pTM=0.116\n",
            "2025-05-12 21:22:54,000 Query 7/13: intersection_protein_seq_6 (length 104)\n"
          ]
        },
        {
          "output_type": "stream",
          "name": "stderr",
          "text": [
            "COMPLETE: 100%|██████████| 150/150 [elapsed: 00:01 remaining: 00:00]\n"
          ]
        },
        {
          "output_type": "stream",
          "name": "stdout",
          "text": [
            "2025-05-12 21:22:58,734 Padding length to 114\n",
            "2025-05-12 21:23:31,803 alphafold2_ptm_model_1_seed_000 recycle=0 pLDDT=91.1 pTM=0.692\n",
            "2025-05-12 21:23:39,733 alphafold2_ptm_model_1_seed_000 recycle=1 pLDDT=92 pTM=0.701 tol=1.35\n",
            "2025-05-12 21:23:47,709 alphafold2_ptm_model_1_seed_000 recycle=2 pLDDT=92.5 pTM=0.704 tol=0.434\n",
            "2025-05-12 21:23:55,683 alphafold2_ptm_model_1_seed_000 recycle=3 pLDDT=93 pTM=0.708 tol=0.276\n",
            "2025-05-12 21:23:55,684 alphafold2_ptm_model_1_seed_000 took 56.9s (3 recycles)\n",
            "2025-05-12 21:23:55,709 reranking models by 'plddt' metric\n",
            "2025-05-12 21:23:55,709 rank_001_alphafold2_ptm_model_1_seed_000 pLDDT=93 pTM=0.708\n",
            "2025-05-12 21:23:56,123 Query 8/13: intersection_protein_seq_7 (length 138)\n"
          ]
        },
        {
          "output_type": "stream",
          "name": "stderr",
          "text": [
            "COMPLETE: 100%|██████████| 150/150 [elapsed: 00:00 remaining: 00:00]\n"
          ]
        },
        {
          "output_type": "stream",
          "name": "stdout",
          "text": [
            "2025-05-12 21:23:58,521 Padding length to 148\n",
            "2025-05-12 21:24:30,433 alphafold2_ptm_model_1_seed_000 recycle=0 pLDDT=68.1 pTM=0.547\n",
            "2025-05-12 21:24:40,741 alphafold2_ptm_model_1_seed_000 recycle=1 pLDDT=81 pTM=0.683 tol=1.14\n",
            "2025-05-12 21:24:51,075 alphafold2_ptm_model_1_seed_000 recycle=2 pLDDT=86.2 pTM=0.745 tol=0.267\n",
            "2025-05-12 21:25:01,436 alphafold2_ptm_model_1_seed_000 recycle=3 pLDDT=88 pTM=0.768 tol=0.291\n",
            "2025-05-12 21:25:01,437 alphafold2_ptm_model_1_seed_000 took 62.9s (3 recycles)\n",
            "2025-05-12 21:25:01,469 reranking models by 'plddt' metric\n",
            "2025-05-12 21:25:01,469 rank_001_alphafold2_ptm_model_1_seed_000 pLDDT=88 pTM=0.768\n",
            "2025-05-12 21:25:01,902 Query 9/13: intersection_protein_seq_4 (length 143)\n"
          ]
        },
        {
          "output_type": "stream",
          "name": "stderr",
          "text": [
            "COMPLETE: 100%|██████████| 150/150 [elapsed: 00:01 remaining: 00:00]\n"
          ]
        },
        {
          "output_type": "stream",
          "name": "stdout",
          "text": [
            "2025-05-12 21:25:10,500 Padding length to 148\n",
            "2025-05-12 21:25:21,155 alphafold2_ptm_model_1_seed_000 recycle=0 pLDDT=75.4 pTM=0.614\n",
            "2025-05-12 21:25:31,693 alphafold2_ptm_model_1_seed_000 recycle=1 pLDDT=74.9 pTM=0.601 tol=1.02\n",
            "2025-05-12 21:25:42,259 alphafold2_ptm_model_1_seed_000 recycle=2 pLDDT=74.9 pTM=0.603 tol=1.3\n",
            "2025-05-12 21:25:52,867 alphafold2_ptm_model_1_seed_000 recycle=3 pLDDT=75.5 pTM=0.61 tol=1.16\n",
            "2025-05-12 21:25:52,868 alphafold2_ptm_model_1_seed_000 took 42.4s (3 recycles)\n",
            "2025-05-12 21:25:52,904 reranking models by 'plddt' metric\n",
            "2025-05-12 21:25:52,904 rank_001_alphafold2_ptm_model_1_seed_000 pLDDT=75.5 pTM=0.61\n",
            "2025-05-12 21:25:53,336 Query 10/13: intersection_protein_seq_10 (length 181)\n"
          ]
        },
        {
          "output_type": "stream",
          "name": "stderr",
          "text": [
            "COMPLETE: 100%|██████████| 150/150 [elapsed: 00:01 remaining: 00:00]\n"
          ]
        },
        {
          "output_type": "stream",
          "name": "stdout",
          "text": [
            "2025-05-12 21:26:01,716 Padding length to 191\n",
            "2025-05-12 21:26:45,106 alphafold2_ptm_model_1_seed_000 recycle=0 pLDDT=71.9 pTM=0.501\n",
            "2025-05-12 21:26:59,087 alphafold2_ptm_model_1_seed_000 recycle=1 pLDDT=73.3 pTM=0.502 tol=0.979\n",
            "2025-05-12 21:27:13,042 alphafold2_ptm_model_1_seed_000 recycle=2 pLDDT=73.6 pTM=0.505 tol=0.497\n",
            "2025-05-12 21:27:27,015 alphafold2_ptm_model_1_seed_000 recycle=3 pLDDT=73.4 pTM=0.502 tol=0.55\n",
            "2025-05-12 21:27:27,016 alphafold2_ptm_model_1_seed_000 took 85.3s (3 recycles)\n",
            "2025-05-12 21:27:27,063 reranking models by 'plddt' metric\n",
            "2025-05-12 21:27:27,064 rank_001_alphafold2_ptm_model_1_seed_000 pLDDT=73.4 pTM=0.502\n",
            "2025-05-12 21:27:27,487 Query 11/13: intersection_protein_seq_12 (length 230)\n"
          ]
        },
        {
          "output_type": "stream",
          "name": "stderr",
          "text": [
            "COMPLETE: 100%|██████████| 150/150 [elapsed: 00:01 remaining: 00:00]\n"
          ]
        },
        {
          "output_type": "stream",
          "name": "stdout",
          "text": [
            "2025-05-12 21:27:33,414 Padding length to 240\n",
            "2025-05-12 21:28:22,241 alphafold2_ptm_model_1_seed_000 recycle=0 pLDDT=93.4 pTM=0.908\n",
            "2025-05-12 21:28:41,579 alphafold2_ptm_model_1_seed_000 recycle=1 pLDDT=93.7 pTM=0.911 tol=0.146\n",
            "2025-05-12 21:29:00,539 alphafold2_ptm_model_1_seed_000 recycle=2 pLDDT=93.7 pTM=0.909 tol=0.114\n",
            "2025-05-12 21:29:19,482 alphafold2_ptm_model_1_seed_000 recycle=3 pLDDT=94.1 pTM=0.912 tol=0.0394\n",
            "2025-05-12 21:29:19,483 alphafold2_ptm_model_1_seed_000 took 106.1s (3 recycles)\n",
            "2025-05-12 21:29:19,596 reranking models by 'plddt' metric\n",
            "2025-05-12 21:29:19,597 rank_001_alphafold2_ptm_model_1_seed_000 pLDDT=94.1 pTM=0.912\n",
            "2025-05-12 21:29:20,222 Query 12/13: intersection_protein_seq_3 (length 268)\n"
          ]
        },
        {
          "output_type": "stream",
          "name": "stderr",
          "text": [
            "COMPLETE: 100%|██████████| 150/150 [elapsed: 00:01 remaining: 00:00]\n"
          ]
        },
        {
          "output_type": "stream",
          "name": "stdout",
          "text": [
            "2025-05-12 21:29:26,022 Padding length to 278\n",
            "2025-05-12 21:30:19,037 alphafold2_ptm_model_1_seed_000 recycle=0 pLDDT=79.3 pTM=0.532\n",
            "2025-05-12 21:30:43,014 alphafold2_ptm_model_1_seed_000 recycle=1 pLDDT=79.5 pTM=0.54 tol=6.68\n",
            "2025-05-12 21:31:06,633 alphafold2_ptm_model_1_seed_000 recycle=2 pLDDT=79.1 pTM=0.547 tol=5.98\n",
            "2025-05-12 21:31:30,353 alphafold2_ptm_model_1_seed_000 recycle=3 pLDDT=79.1 pTM=0.555 tol=1.99\n",
            "2025-05-12 21:31:30,354 alphafold2_ptm_model_1_seed_000 took 124.3s (3 recycles)\n",
            "2025-05-12 21:31:30,483 reranking models by 'plddt' metric\n",
            "2025-05-12 21:31:30,484 rank_001_alphafold2_ptm_model_1_seed_000 pLDDT=79.1 pTM=0.555\n",
            "2025-05-12 21:31:31,270 Query 13/13: intersection_protein_seq_9 (length 367)\n"
          ]
        },
        {
          "output_type": "stream",
          "name": "stderr",
          "text": [
            "COMPLETE: 100%|██████████| 150/150 [elapsed: 00:01 remaining: 00:00]\n"
          ]
        },
        {
          "output_type": "stream",
          "name": "stdout",
          "text": [
            "2025-05-12 21:33:06,249 alphafold2_ptm_model_1_seed_000 recycle=0 pLDDT=85.6 pTM=0.863\n",
            "2025-05-12 21:33:42,651 alphafold2_ptm_model_1_seed_000 recycle=1 pLDDT=86 pTM=0.867 tol=0.959\n",
            "2025-05-12 21:34:18,998 alphafold2_ptm_model_1_seed_000 recycle=2 pLDDT=85.8 pTM=0.861 tol=0.492\n",
            "2025-05-12 21:34:55,416 alphafold2_ptm_model_1_seed_000 recycle=3 pLDDT=85.8 pTM=0.862 tol=0.375\n",
            "2025-05-12 21:34:55,417 alphafold2_ptm_model_1_seed_000 took 183.6s (3 recycles)\n",
            "2025-05-12 21:34:55,555 reranking models by 'plddt' metric\n",
            "2025-05-12 21:34:55,555 rank_001_alphafold2_ptm_model_1_seed_000 pLDDT=85.8 pTM=0.862\n",
            "2025-05-12 21:34:56,081 Done\n"
          ]
        },
        {
          "output_type": "execute_result",
          "data": {
            "text/plain": [
              "{'rank': [['rank_001_alphafold2_ptm_model_1_seed_000'],\n",
              "  ['rank_001_alphafold2_ptm_model_1_seed_000'],\n",
              "  ['rank_001_alphafold2_ptm_model_1_seed_000'],\n",
              "  ['rank_001_alphafold2_ptm_model_1_seed_000'],\n",
              "  ['rank_001_alphafold2_ptm_model_1_seed_000'],\n",
              "  ['rank_001_alphafold2_ptm_model_1_seed_000'],\n",
              "  ['rank_001_alphafold2_ptm_model_1_seed_000'],\n",
              "  ['rank_001_alphafold2_ptm_model_1_seed_000'],\n",
              "  ['rank_001_alphafold2_ptm_model_1_seed_000'],\n",
              "  ['rank_001_alphafold2_ptm_model_1_seed_000'],\n",
              "  ['rank_001_alphafold2_ptm_model_1_seed_000'],\n",
              "  ['rank_001_alphafold2_ptm_model_1_seed_000'],\n",
              "  ['rank_001_alphafold2_ptm_model_1_seed_000']],\n",
              " 'metric': [[{'mean_plddt': 85.25,\n",
              "    'ptm': 0.591796875,\n",
              "    'print_line': ' pLDDT=85.2 pTM=0.592'}],\n",
              "  [{'mean_plddt': 52.90625,\n",
              "    'ptm': 0.32373046875,\n",
              "    'print_line': ' pLDDT=52.9 pTM=0.324'}],\n",
              "  [{'mean_plddt': 90.5,\n",
              "    'ptm': 0.53662109375,\n",
              "    'print_line': ' pLDDT=90.5 pTM=0.537'}],\n",
              "  [{'mean_plddt': 88.3125,\n",
              "    'ptm': 0.75244140625,\n",
              "    'print_line': ' pLDDT=88.3 pTM=0.752'}],\n",
              "  [{'mean_plddt': 86.625, 'ptm': 0.75, 'print_line': ' pLDDT=86.6 pTM=0.75'}],\n",
              "  [{'mean_plddt': 60.71875,\n",
              "    'ptm': 0.11614990234375,\n",
              "    'print_line': ' pLDDT=60.7 pTM=0.116'}],\n",
              "  [{'mean_plddt': 93.0,\n",
              "    'ptm': 0.70751953125,\n",
              "    'print_line': ' pLDDT=93 pTM=0.708'}],\n",
              "  [{'mean_plddt': 88.0,\n",
              "    'ptm': 0.76806640625,\n",
              "    'print_line': ' pLDDT=88 pTM=0.768'}],\n",
              "  [{'mean_plddt': 75.5,\n",
              "    'ptm': 0.60986328125,\n",
              "    'print_line': ' pLDDT=75.5 pTM=0.61'}],\n",
              "  [{'mean_plddt': 73.4375,\n",
              "    'ptm': 0.50244140625,\n",
              "    'print_line': ' pLDDT=73.4 pTM=0.502'}],\n",
              "  [{'mean_plddt': 94.125,\n",
              "    'ptm': 0.912109375,\n",
              "    'print_line': ' pLDDT=94.1 pTM=0.912'}],\n",
              "  [{'mean_plddt': 79.0625,\n",
              "    'ptm': 0.5546875,\n",
              "    'print_line': ' pLDDT=79.1 pTM=0.555'}],\n",
              "  [{'mean_plddt': 85.8125,\n",
              "    'ptm': 0.86181640625,\n",
              "    'print_line': ' pLDDT=85.8 pTM=0.862'}]]}"
            ]
          },
          "metadata": {},
          "execution_count": 9
        }
      ]
    },
    {
      "cell_type": "code",
      "source": [],
      "metadata": {
        "id": "CCfdVdsNiTZz"
      },
      "execution_count": null,
      "outputs": []
    }
  ]
}