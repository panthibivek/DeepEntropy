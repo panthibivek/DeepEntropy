{
  "nbformat": 4,
  "nbformat_minor": 0,
  "metadata": {
    "colab": {
      "provenance": [],
      "gpuType": "T4"
    },
    "kernelspec": {
      "name": "python3",
      "display_name": "Python 3"
    },
    "language_info": {
      "name": "python"
    },
    "accelerator": "GPU"
  },
  "cells": [
    {
      "cell_type": "code",
      "execution_count": 1,
      "metadata": {
        "colab": {
          "base_uri": "https://localhost:8080/"
        },
        "id": "g9mRFdMPaPdo",
        "outputId": "66485738-a097-4ee5-cb10-3fb5ca7d9360"
      },
      "outputs": [
        {
          "output_type": "stream",
          "name": "stdout",
          "text": [
            "Mounted at /content/drive\n"
          ]
        }
      ],
      "source": [
        "#@title Mount google drive\n",
        "from google.colab import drive\n",
        "drive.mount('/content/drive')\n",
        "from sys import version_info\n",
        "python_version = f\"{version_info.major}.{version_info.minor}\""
      ]
    },
    {
      "cell_type": "code",
      "source": [
        "#@title Input protein sequence, then hit `Runtime` -> `Run all`\n",
        "\n",
        "input_dir = '/content/drive/MyDrive/alphafold2/unfiltered_rest_set.fasta' #@param {type:\"string\"}\n",
        "result_dir = '/content/drive/MyDrive/alphafold2/result' #@param {type:\"string\"}\n",
        "\n",
        "# number of models to use\n",
        "#@markdown ---\n",
        "#@markdown ### Advanced settings\n",
        "msa_mode = \"MMseqs2 (UniRef+Environmental)\" #@param [\"MMseqs2 (UniRef+Environmental)\", \"MMseqs2 (UniRef only)\",\"single_sequence\",\"custom\"]\n",
        "num_models = 5 #@param [1,2,3,4,5] {type:\"raw\"}\n",
        "num_recycles = 3 #@param [1,3,6,12,24,48] {type:\"raw\"}\n",
        "stop_at_score = 100 #@param {type:\"string\"}\n",
        "#@markdown - early stop computing models once score > threshold (avg. plddt for \"structures\" and ptmscore for \"complexes\")\n",
        "use_custom_msa = False\n",
        "num_relax = 0 #@param [0, 1, 5] {type:\"raw\"}\n",
        "use_amber = num_relax > 0\n",
        "relax_max_iterations = 200 #@param [0,200,2000] {type:\"raw\"}\n",
        "use_templates = False #@param {type:\"boolean\"}\n",
        "do_not_overwrite_results = True #@param {type:\"boolean\"}\n",
        "zip_results = False #@param {type:\"boolean\"}"
      ],
      "metadata": {
        "id": "3KG3sWHDaVw-"
      },
      "execution_count": 7,
      "outputs": []
    },
    {
      "cell_type": "code",
      "source": [
        "#@title Install dependencies\n",
        "%%bash -s $use_amber $use_templates $python_version\n",
        "\n",
        "set -e\n",
        "\n",
        "USE_AMBER=$1\n",
        "USE_TEMPLATES=$2\n",
        "PYTHON_VERSION=$3\n",
        "\n",
        "if [ ! -f COLABFOLD_READY ]; then\n",
        "  # install dependencies\n",
        "  # We have to use \"--no-warn-conflicts\" because colab already has a lot preinstalled with requirements different to ours\n",
        "  pip install -q --no-warn-conflicts \"colabfold[alphafold-minus-jax] @ git+https://github.com/sokrypton/ColabFold\"\n",
        "  if [ -n \"${TPU_NAME}\" ]; then\n",
        "    pip install -q --no-warn-conflicts -U dm-haiku==0.0.10 jax==0.3.25\n",
        "  fi\n",
        "  ln -s /usr/local/lib/python3.*/dist-packages/colabfold colabfold\n",
        "  ln -s /usr/local/lib/python3.*/dist-packages/alphafold alphafold\n",
        "  touch COLABFOLD_READY\n",
        "fi\n",
        "\n",
        "# Download params (~1min)\n",
        "python -m colabfold.download\n",
        "\n",
        "# setup conda\n",
        "if [ ${USE_AMBER} == \"True\" ] || [ ${USE_TEMPLATES} == \"True\" ]; then\n",
        "  if [ ! -f CONDA_READY ]; then\n",
        "    wget -qnc https://repo.anaconda.com/miniconda/Miniconda3-latest-Linux-x86_64.sh\n",
        "    bash Miniconda3-latest-Linux-x86_64.sh -bfp /usr/local 2>&1 1>/dev/null\n",
        "    rm Miniconda3-latest-Linux-x86_64.sh\n",
        "    conda config --set auto_update_conda false\n",
        "    touch CONDA_READY\n",
        "  fi\n",
        "fi\n",
        "# setup template search\n",
        "if [ ${USE_TEMPLATES} == \"True\" ] && [ ! -f HH_READY ]; then\n",
        "  conda install -y -q -c conda-forge -c bioconda kalign2=2.04 hhsuite=3.3.0 python=\"${PYTHON_VERSION}\" 2>&1 1>/dev/null\n",
        "  touch HH_READY\n",
        "fi\n",
        "# setup openmm for amber refinement\n",
        "if [ ${USE_AMBER} == \"True\" ] && [ ! -f AMBER_READY ]; then\n",
        "  conda install -y -q -c conda-forge openmm=8.2.0 python=\"${PYTHON_VERSION}\" pdbfixer 2>&1 1>/dev/null\n",
        "  touch AMBER_READY\n",
        "fi"
      ],
      "metadata": {
        "colab": {
          "base_uri": "https://localhost:8080/"
        },
        "id": "oioeGeIUaf-6",
        "outputId": "5af2d566-d187-4349-f10e-c1077ee56635"
      },
      "execution_count": 8,
      "outputs": [
        {
          "output_type": "stream",
          "name": "stdout",
          "text": [
            "   ━━━━━━━━━━━━━━━━━━━━━━━━━━━━━━━━━━━━━━━━ 242.2/242.2 kB 10.9 MB/s eta 0:00:00\n",
            "   ━━━━━━━━━━━━━━━━━━━━━━━━━━━━━━━━━━━━━━━━ 3.3/3.3 MB 67.6 MB/s eta 0:00:00\n",
            "   ━━━━━━━━━━━━━━━━━━━━━━━━━━━━━━━━━━━━━━━━ 373.9/373.9 kB 34.2 MB/s eta 0:00:00\n",
            "   ━━━━━━━━━━━━━━━━━━━━━━━━━━━━━━━━━━━━━━━━ 251.8/251.8 MB 4.6 MB/s eta 0:00:00\n",
            "   ━━━━━━━━━━━━━━━━━━━━━━━━━━━━━━━━━━━━━━━━ 4.7/4.7 MB 122.9 MB/s eta 0:00:00\n",
            "   ━━━━━━━━━━━━━━━━━━━━━━━━━━━━━━━━━━━━━━━━ 5.5/5.5 MB 121.3 MB/s eta 0:00:00\n",
            "   ━━━━━━━━━━━━━━━━━━━━━━━━━━━━━━━━━━━━━━━━ 76.7/76.7 kB 7.3 MB/s eta 0:00:00\n"
          ]
        },
        {
          "output_type": "stream",
          "name": "stderr",
          "text": [
            "\rDownloading alphafold2_multimer_v3 weights to /root/.cache/colabfold:   0%|          | 0/4099624960 [00:00<?, ?it/s]\rDownloading alphafold2_multimer_v3 weights to /root/.cache/colabfold:   0%|          | 18.1M/3.82G [00:00<00:21, 190MB/s]\rDownloading alphafold2_multimer_v3 weights to /root/.cache/colabfold:   1%|          | 41.0M/3.82G [00:00<00:18, 219MB/s]\rDownloading alphafold2_multimer_v3 weights to /root/.cache/colabfold:   2%|▏         | 61.9M/3.82G [00:00<00:18, 217MB/s]\rDownloading alphafold2_multimer_v3 weights to /root/.cache/colabfold:   2%|▏         | 82.6M/3.82G [00:00<00:18, 213MB/s]\rDownloading alphafold2_multimer_v3 weights to /root/.cache/colabfold:   3%|▎         | 104M/3.82G [00:00<00:18, 215MB/s] \rDownloading alphafold2_multimer_v3 weights to /root/.cache/colabfold:   3%|▎         | 124M/3.82G [00:00<00:19, 205MB/s]\rDownloading alphafold2_multimer_v3 weights to /root/.cache/colabfold:   4%|▎         | 145M/3.82G [00:00<00:18, 211MB/s]\rDownloading alphafold2_multimer_v3 weights to /root/.cache/colabfold:   4%|▍         | 167M/3.82G [00:00<00:18, 217MB/s]\rDownloading alphafold2_multimer_v3 weights to /root/.cache/colabfold:   5%|▍         | 188M/3.82G [00:00<00:18, 215MB/s]\rDownloading alphafold2_multimer_v3 weights to /root/.cache/colabfold:   5%|▌         | 209M/3.82G [00:01<00:19, 203MB/s]\rDownloading alphafold2_multimer_v3 weights to /root/.cache/colabfold:   6%|▌         | 230M/3.82G [00:01<00:18, 208MB/s]\rDownloading alphafold2_multimer_v3 weights to /root/.cache/colabfold:   6%|▋         | 250M/3.82G [00:01<00:18, 204MB/s]\rDownloading alphafold2_multimer_v3 weights to /root/.cache/colabfold:   7%|▋         | 269M/3.82G [00:01<00:18, 202MB/s]\rDownloading alphafold2_multimer_v3 weights to /root/.cache/colabfold:   7%|▋         | 289M/3.82G [00:01<00:18, 201MB/s]\rDownloading alphafold2_multimer_v3 weights to /root/.cache/colabfold:   8%|▊         | 310M/3.82G [00:01<00:18, 208MB/s]\rDownloading alphafold2_multimer_v3 weights to /root/.cache/colabfold:   8%|▊         | 330M/3.82G [00:01<00:18, 207MB/s]\rDownloading alphafold2_multimer_v3 weights to /root/.cache/colabfold:   9%|▉         | 353M/3.82G [00:01<00:17, 216MB/s]\rDownloading alphafold2_multimer_v3 weights to /root/.cache/colabfold:  10%|▉         | 374M/3.82G [00:01<00:18, 206MB/s]\rDownloading alphafold2_multimer_v3 weights to /root/.cache/colabfold:  10%|█         | 393M/3.82G [00:01<00:18, 199MB/s]\rDownloading alphafold2_multimer_v3 weights to /root/.cache/colabfold:  11%|█         | 412M/3.82G [00:02<00:18, 195MB/s]\rDownloading alphafold2_multimer_v3 weights to /root/.cache/colabfold:  11%|█         | 436M/3.82G [00:02<00:17, 209MB/s]\rDownloading alphafold2_multimer_v3 weights to /root/.cache/colabfold:  12%|█▏        | 464M/3.82G [00:02<00:15, 233MB/s]\rDownloading alphafold2_multimer_v3 weights to /root/.cache/colabfold:  13%|█▎        | 491M/3.82G [00:02<00:14, 249MB/s]\rDownloading alphafold2_multimer_v3 weights to /root/.cache/colabfold:  13%|█▎        | 515M/3.82G [00:05<02:16, 26.0MB/s]\rDownloading alphafold2_multimer_v3 weights to /root/.cache/colabfold:  14%|█▍        | 543M/3.82G [00:05<01:34, 37.3MB/s]\rDownloading alphafold2_multimer_v3 weights to /root/.cache/colabfold:  14%|█▍        | 564M/3.82G [00:05<01:14, 47.0MB/s]\rDownloading alphafold2_multimer_v3 weights to /root/.cache/colabfold:  15%|█▌        | 591M/3.82G [00:05<00:53, 64.8MB/s]\rDownloading alphafold2_multimer_v3 weights to /root/.cache/colabfold:  16%|█▌        | 619M/3.82G [00:05<00:39, 86.7MB/s]\rDownloading alphafold2_multimer_v3 weights to /root/.cache/colabfold:  16%|█▋        | 643M/3.82G [00:05<00:32, 104MB/s] \rDownloading alphafold2_multimer_v3 weights to /root/.cache/colabfold:  17%|█▋        | 669M/3.82G [00:06<00:26, 128MB/s]\rDownloading alphafold2_multimer_v3 weights to /root/.cache/colabfold:  18%|█▊        | 695M/3.82G [00:06<00:22, 153MB/s]\rDownloading alphafold2_multimer_v3 weights to /root/.cache/colabfold:  18%|█▊        | 721M/3.82G [00:06<00:18, 177MB/s]\rDownloading alphafold2_multimer_v3 weights to /root/.cache/colabfold:  19%|█▉        | 748M/3.82G [00:06<00:16, 200MB/s]\rDownloading alphafold2_multimer_v3 weights to /root/.cache/colabfold:  20%|█▉        | 775M/3.82G [00:06<00:14, 220MB/s]\rDownloading alphafold2_multimer_v3 weights to /root/.cache/colabfold:  21%|██        | 802M/3.82G [00:06<00:13, 236MB/s]\rDownloading alphafold2_multimer_v3 weights to /root/.cache/colabfold:  21%|██        | 828M/3.82G [00:06<00:13, 239MB/s]\rDownloading alphafold2_multimer_v3 weights to /root/.cache/colabfold:  22%|██▏       | 856M/3.82G [00:06<00:12, 253MB/s]\rDownloading alphafold2_multimer_v3 weights to /root/.cache/colabfold:  23%|██▎       | 883M/3.82G [00:06<00:12, 261MB/s]\rDownloading alphafold2_multimer_v3 weights to /root/.cache/colabfold:  23%|██▎       | 910M/3.82G [00:06<00:11, 266MB/s]\rDownloading alphafold2_multimer_v3 weights to /root/.cache/colabfold:  24%|██▍       | 937M/3.82G [00:07<00:11, 273MB/s]\rDownloading alphafold2_multimer_v3 weights to /root/.cache/colabfold:  25%|██▍       | 964M/3.82G [00:07<00:11, 274MB/s]\rDownloading alphafold2_multimer_v3 weights to /root/.cache/colabfold:  25%|██▌       | 993M/3.82G [00:07<00:10, 282MB/s]\rDownloading alphafold2_multimer_v3 weights to /root/.cache/colabfold:  26%|██▌       | 1.00G/3.82G [00:07<00:10, 276MB/s]\rDownloading alphafold2_multimer_v3 weights to /root/.cache/colabfold:  27%|██▋       | 1.02G/3.82G [00:07<00:11, 254MB/s]\rDownloading alphafold2_multimer_v3 weights to /root/.cache/colabfold:  27%|██▋       | 1.05G/3.82G [00:07<00:11, 260MB/s]\rDownloading alphafold2_multimer_v3 weights to /root/.cache/colabfold:  28%|██▊       | 1.07G/3.82G [00:07<00:11, 257MB/s]\rDownloading alphafold2_multimer_v3 weights to /root/.cache/colabfold:  29%|██▉       | 1.10G/3.82G [00:07<00:10, 266MB/s]\rDownloading alphafold2_multimer_v3 weights to /root/.cache/colabfold:  29%|██▉       | 1.13G/3.82G [00:07<00:10, 272MB/s]\rDownloading alphafold2_multimer_v3 weights to /root/.cache/colabfold:  30%|███       | 1.15G/3.82G [00:08<00:10, 276MB/s]\rDownloading alphafold2_multimer_v3 weights to /root/.cache/colabfold:  31%|███       | 1.18G/3.82G [00:08<00:09, 284MB/s]\rDownloading alphafold2_multimer_v3 weights to /root/.cache/colabfold:  32%|███▏      | 1.21G/3.82G [00:08<00:09, 286MB/s]\rDownloading alphafold2_multimer_v3 weights to /root/.cache/colabfold:  32%|███▏      | 1.23G/3.82G [00:08<00:09, 279MB/s]\rDownloading alphafold2_multimer_v3 weights to /root/.cache/colabfold:  33%|███▎      | 1.26G/3.82G [00:08<00:09, 280MB/s]\rDownloading alphafold2_multimer_v3 weights to /root/.cache/colabfold:  34%|███▎      | 1.29G/3.82G [00:08<00:10, 259MB/s]\rDownloading alphafold2_multimer_v3 weights to /root/.cache/colabfold:  34%|███▍      | 1.31G/3.82G [00:08<00:10, 260MB/s]\rDownloading alphafold2_multimer_v3 weights to /root/.cache/colabfold:  35%|███▌      | 1.34G/3.82G [00:08<00:10, 244MB/s]\rDownloading alphafold2_multimer_v3 weights to /root/.cache/colabfold:  36%|███▌      | 1.36G/3.82G [00:08<00:10, 255MB/s]\rDownloading alphafold2_multimer_v3 weights to /root/.cache/colabfold:  36%|███▋      | 1.39G/3.82G [00:08<00:10, 260MB/s]\rDownloading alphafold2_multimer_v3 weights to /root/.cache/colabfold:  37%|███▋      | 1.42G/3.82G [00:09<00:09, 267MB/s]\rDownloading alphafold2_multimer_v3 weights to /root/.cache/colabfold:  38%|███▊      | 1.44G/3.82G [00:09<00:10, 248MB/s]\rDownloading alphafold2_multimer_v3 weights to /root/.cache/colabfold:  38%|███▊      | 1.47G/3.82G [00:09<00:09, 257MB/s]\rDownloading alphafold2_multimer_v3 weights to /root/.cache/colabfold:  39%|███▉      | 1.49G/3.82G [00:09<00:09, 265MB/s]\rDownloading alphafold2_multimer_v3 weights to /root/.cache/colabfold:  40%|███▉      | 1.52G/3.82G [00:09<00:09, 249MB/s]\rDownloading alphafold2_multimer_v3 weights to /root/.cache/colabfold:  40%|████      | 1.55G/3.82G [00:09<00:12, 203MB/s]\rDownloading alphafold2_multimer_v3 weights to /root/.cache/colabfold:  41%|████      | 1.57G/3.82G [00:09<00:11, 213MB/s]\rDownloading alphafold2_multimer_v3 weights to /root/.cache/colabfold:  42%|████▏     | 1.59G/3.82G [00:09<00:10, 230MB/s]\rDownloading alphafold2_multimer_v3 weights to /root/.cache/colabfold:  42%|████▏     | 1.62G/3.82G [00:10<00:09, 243MB/s]\rDownloading alphafold2_multimer_v3 weights to /root/.cache/colabfold:  43%|████▎     | 1.65G/3.82G [00:10<00:08, 261MB/s]\rDownloading alphafold2_multimer_v3 weights to /root/.cache/colabfold:  44%|████▍     | 1.68G/3.82G [00:10<00:08, 266MB/s]\rDownloading alphafold2_multimer_v3 weights to /root/.cache/colabfold:  45%|████▍     | 1.70G/3.82G [00:10<00:08, 253MB/s]\rDownloading alphafold2_multimer_v3 weights to /root/.cache/colabfold:  45%|████▌     | 1.72G/3.82G [00:10<00:10, 215MB/s]\rDownloading alphafold2_multimer_v3 weights to /root/.cache/colabfold:  46%|████▌     | 1.75G/3.82G [00:10<00:09, 232MB/s]\rDownloading alphafold2_multimer_v3 weights to /root/.cache/colabfold:  47%|████▋     | 1.78G/3.82G [00:10<00:08, 247MB/s]\rDownloading alphafold2_multimer_v3 weights to /root/.cache/colabfold:  47%|████▋     | 1.80G/3.82G [00:10<00:08, 255MB/s]\rDownloading alphafold2_multimer_v3 weights to /root/.cache/colabfold:  48%|████▊     | 1.83G/3.82G [00:10<00:08, 245MB/s]\rDownloading alphafold2_multimer_v3 weights to /root/.cache/colabfold:  48%|████▊     | 1.85G/3.82G [00:11<00:08, 247MB/s]\rDownloading alphafold2_multimer_v3 weights to /root/.cache/colabfold:  49%|████▉     | 1.88G/3.82G [00:11<00:08, 251MB/s]\rDownloading alphafold2_multimer_v3 weights to /root/.cache/colabfold:  50%|████▉     | 1.90G/3.82G [00:11<00:07, 267MB/s]\rDownloading alphafold2_multimer_v3 weights to /root/.cache/colabfold:  51%|█████     | 1.93G/3.82G [00:11<00:08, 251MB/s]\rDownloading alphafold2_multimer_v3 weights to /root/.cache/colabfold:  51%|█████     | 1.96G/3.82G [00:11<00:07, 261MB/s]\rDownloading alphafold2_multimer_v3 weights to /root/.cache/colabfold:  52%|█████▏    | 1.98G/3.82G [00:11<00:07, 253MB/s]\rDownloading alphafold2_multimer_v3 weights to /root/.cache/colabfold:  53%|█████▎    | 2.01G/3.82G [00:11<00:07, 260MB/s]\rDownloading alphafold2_multimer_v3 weights to /root/.cache/colabfold:  53%|█████▎    | 2.03G/3.82G [00:11<00:07, 264MB/s]\rDownloading alphafold2_multimer_v3 weights to /root/.cache/colabfold:  54%|█████▍    | 2.06G/3.82G [00:11<00:07, 264MB/s]\rDownloading alphafold2_multimer_v3 weights to /root/.cache/colabfold:  55%|█████▍    | 2.08G/3.82G [00:11<00:07, 265MB/s]\rDownloading alphafold2_multimer_v3 weights to /root/.cache/colabfold:  55%|█████▌    | 2.11G/3.82G [00:12<00:07, 247MB/s]\rDownloading alphafold2_multimer_v3 weights to /root/.cache/colabfold:  56%|█████▌    | 2.13G/3.82G [00:12<00:07, 240MB/s]\rDownloading alphafold2_multimer_v3 weights to /root/.cache/colabfold:  56%|█████▋    | 2.15G/3.82G [00:12<00:08, 220MB/s]\rDownloading alphafold2_multimer_v3 weights to /root/.cache/colabfold:  57%|█████▋    | 2.17G/3.82G [00:12<00:08, 217MB/s]\rDownloading alphafold2_multimer_v3 weights to /root/.cache/colabfold:  57%|█████▋    | 2.19G/3.82G [00:12<00:08, 209MB/s]\rDownloading alphafold2_multimer_v3 weights to /root/.cache/colabfold:  58%|█████▊    | 2.21G/3.82G [00:12<00:08, 207MB/s]\rDownloading alphafold2_multimer_v3 weights to /root/.cache/colabfold:  58%|█████▊    | 2.23G/3.82G [00:12<00:08, 199MB/s]\rDownloading alphafold2_multimer_v3 weights to /root/.cache/colabfold:  59%|█████▉    | 2.25G/3.82G [00:12<00:08, 196MB/s]\rDownloading alphafold2_multimer_v3 weights to /root/.cache/colabfold:  59%|█████▉    | 2.27G/3.82G [00:13<00:08, 185MB/s]\rDownloading alphafold2_multimer_v3 weights to /root/.cache/colabfold:  60%|█████▉    | 2.29G/3.82G [00:13<00:08, 188MB/s]\rDownloading alphafold2_multimer_v3 weights to /root/.cache/colabfold:  60%|██████    | 2.31G/3.82G [00:13<00:08, 193MB/s]\rDownloading alphafold2_multimer_v3 weights to /root/.cache/colabfold:  61%|██████    | 2.33G/3.82G [00:13<00:08, 198MB/s]\rDownloading alphafold2_multimer_v3 weights to /root/.cache/colabfold:  61%|██████▏   | 2.35G/3.82G [00:13<00:08, 197MB/s]\rDownloading alphafold2_multimer_v3 weights to /root/.cache/colabfold:  62%|██████▏   | 2.36G/3.82G [00:13<00:07, 201MB/s]\rDownloading alphafold2_multimer_v3 weights to /root/.cache/colabfold:  63%|██████▎   | 2.39G/3.82G [00:13<00:07, 210MB/s]\rDownloading alphafold2_multimer_v3 weights to /root/.cache/colabfold:  63%|██████▎   | 2.41G/3.82G [00:13<00:06, 219MB/s]\rDownloading alphafold2_multimer_v3 weights to /root/.cache/colabfold:  64%|██████▎   | 2.43G/3.82G [00:13<00:06, 224MB/s]\rDownloading alphafold2_multimer_v3 weights to /root/.cache/colabfold:  64%|██████▍   | 2.45G/3.82G [00:13<00:06, 222MB/s]\rDownloading alphafold2_multimer_v3 weights to /root/.cache/colabfold:  65%|██████▍   | 2.47G/3.82G [00:14<00:07, 202MB/s]\rDownloading alphafold2_multimer_v3 weights to /root/.cache/colabfold:  65%|██████▌   | 2.49G/3.82G [00:14<00:07, 193MB/s]\rDownloading alphafold2_multimer_v3 weights to /root/.cache/colabfold:  66%|██████▌   | 2.51G/3.82G [00:14<00:07, 184MB/s]\rDownloading alphafold2_multimer_v3 weights to /root/.cache/colabfold:  66%|██████▌   | 2.53G/3.82G [00:14<00:07, 182MB/s]\rDownloading alphafold2_multimer_v3 weights to /root/.cache/colabfold:  67%|██████▋   | 2.55G/3.82G [00:14<00:07, 189MB/s]\rDownloading alphafold2_multimer_v3 weights to /root/.cache/colabfold:  67%|██████▋   | 2.56G/3.82G [00:14<00:07, 190MB/s]\rDownloading alphafold2_multimer_v3 weights to /root/.cache/colabfold:  68%|██████▊   | 2.58G/3.82G [00:14<00:06, 193MB/s]\rDownloading alphafold2_multimer_v3 weights to /root/.cache/colabfold:  68%|██████▊   | 2.60G/3.82G [00:14<00:06, 199MB/s]\rDownloading alphafold2_multimer_v3 weights to /root/.cache/colabfold:  69%|██████▊   | 2.62G/3.82G [00:14<00:06, 201MB/s]\rDownloading alphafold2_multimer_v3 weights to /root/.cache/colabfold:  69%|██████▉   | 2.64G/3.82G [00:15<00:06, 208MB/s]\rDownloading alphafold2_multimer_v3 weights to /root/.cache/colabfold:  70%|██████▉   | 2.66G/3.82G [00:15<00:06, 202MB/s]\rDownloading alphafold2_multimer_v3 weights to /root/.cache/colabfold:  70%|███████   | 2.68G/3.82G [00:15<00:06, 199MB/s]\rDownloading alphafold2_multimer_v3 weights to /root/.cache/colabfold:  71%|███████   | 2.70G/3.82G [00:15<00:06, 197MB/s]\rDownloading alphafold2_multimer_v3 weights to /root/.cache/colabfold:  71%|███████   | 2.72G/3.82G [00:15<00:05, 197MB/s]\rDownloading alphafold2_multimer_v3 weights to /root/.cache/colabfold:  72%|███████▏  | 2.74G/3.82G [00:15<00:06, 185MB/s]\rDownloading alphafold2_multimer_v3 weights to /root/.cache/colabfold:  72%|███████▏  | 2.76G/3.82G [00:15<00:06, 179MB/s]\rDownloading alphafold2_multimer_v3 weights to /root/.cache/colabfold:  73%|███████▎  | 2.77G/3.82G [00:15<00:06, 182MB/s]\rDownloading alphafold2_multimer_v3 weights to /root/.cache/colabfold:  73%|███████▎  | 2.79G/3.82G [00:15<00:06, 182MB/s]\rDownloading alphafold2_multimer_v3 weights to /root/.cache/colabfold:  74%|███████▎  | 2.81G/3.82G [00:15<00:05, 189MB/s]\rDownloading alphafold2_multimer_v3 weights to /root/.cache/colabfold:  74%|███████▍  | 2.83G/3.82G [00:16<00:05, 201MB/s]\rDownloading alphafold2_multimer_v3 weights to /root/.cache/colabfold:  75%|███████▍  | 2.85G/3.82G [00:16<00:05, 200MB/s]\rDownloading alphafold2_multimer_v3 weights to /root/.cache/colabfold:  75%|███████▌  | 2.87G/3.82G [00:16<00:06, 157MB/s]\rDownloading alphafold2_multimer_v3 weights to /root/.cache/colabfold:  76%|███████▌  | 2.89G/3.82G [00:16<00:05, 175MB/s]\rDownloading alphafold2_multimer_v3 weights to /root/.cache/colabfold:  76%|███████▋  | 2.91G/3.82G [00:16<00:04, 200MB/s]\rDownloading alphafold2_multimer_v3 weights to /root/.cache/colabfold:  77%|███████▋  | 2.94G/3.82G [00:16<00:04, 217MB/s]\rDownloading alphafold2_multimer_v3 weights to /root/.cache/colabfold:  78%|███████▊  | 2.96G/3.82G [00:16<00:03, 234MB/s]\rDownloading alphafold2_multimer_v3 weights to /root/.cache/colabfold:  78%|███████▊  | 2.99G/3.82G [00:16<00:03, 239MB/s]\rDownloading alphafold2_multimer_v3 weights to /root/.cache/colabfold:  79%|███████▉  | 3.01G/3.82G [00:16<00:03, 248MB/s]\rDownloading alphafold2_multimer_v3 weights to /root/.cache/colabfold:  80%|███████▉  | 3.04G/3.82G [00:17<00:03, 255MB/s]\rDownloading alphafold2_multimer_v3 weights to /root/.cache/colabfold:  80%|████████  | 3.06G/3.82G [00:17<00:03, 258MB/s]\rDownloading alphafold2_multimer_v3 weights to /root/.cache/colabfold:  81%|████████  | 3.09G/3.82G [00:17<00:03, 261MB/s]\rDownloading alphafold2_multimer_v3 weights to /root/.cache/colabfold:  82%|████████▏ | 3.11G/3.82G [00:17<00:02, 265MB/s]\rDownloading alphafold2_multimer_v3 weights to /root/.cache/colabfold:  82%|████████▏ | 3.14G/3.82G [00:17<00:02, 271MB/s]\rDownloading alphafold2_multimer_v3 weights to /root/.cache/colabfold:  83%|████████▎ | 3.17G/3.82G [00:17<00:02, 261MB/s]\rDownloading alphafold2_multimer_v3 weights to /root/.cache/colabfold:  84%|████████▎ | 3.19G/3.82G [00:17<00:02, 268MB/s]\rDownloading alphafold2_multimer_v3 weights to /root/.cache/colabfold:  84%|████████▍ | 3.22G/3.82G [00:17<00:02, 272MB/s]\rDownloading alphafold2_multimer_v3 weights to /root/.cache/colabfold:  85%|████████▌ | 3.25G/3.82G [00:17<00:02, 282MB/s]\rDownloading alphafold2_multimer_v3 weights to /root/.cache/colabfold:  86%|████████▌ | 3.27G/3.82G [00:17<00:02, 274MB/s]\rDownloading alphafold2_multimer_v3 weights to /root/.cache/colabfold:  86%|████████▋ | 3.30G/3.82G [00:18<00:01, 284MB/s]\rDownloading alphafold2_multimer_v3 weights to /root/.cache/colabfold:  87%|████████▋ | 3.33G/3.82G [00:18<00:01, 274MB/s]\rDownloading alphafold2_multimer_v3 weights to /root/.cache/colabfold:  88%|████████▊ | 3.36G/3.82G [00:18<00:01, 279MB/s]\rDownloading alphafold2_multimer_v3 weights to /root/.cache/colabfold:  89%|████████▊ | 3.38G/3.82G [00:18<00:01, 260MB/s]\rDownloading alphafold2_multimer_v3 weights to /root/.cache/colabfold:  89%|████████▉ | 3.41G/3.82G [00:18<00:01, 267MB/s]\rDownloading alphafold2_multimer_v3 weights to /root/.cache/colabfold:  90%|█████████ | 3.44G/3.82G [00:18<00:01, 282MB/s]\rDownloading alphafold2_multimer_v3 weights to /root/.cache/colabfold:  91%|█████████ | 3.46G/3.82G [00:18<00:01, 272MB/s]\rDownloading alphafold2_multimer_v3 weights to /root/.cache/colabfold:  91%|█████████▏| 3.49G/3.82G [00:18<00:01, 272MB/s]\rDownloading alphafold2_multimer_v3 weights to /root/.cache/colabfold:  92%|█████████▏| 3.52G/3.82G [00:18<00:01, 274MB/s]\rDownloading alphafold2_multimer_v3 weights to /root/.cache/colabfold:  93%|█████████▎| 3.54G/3.82G [00:19<00:01, 275MB/s]\rDownloading alphafold2_multimer_v3 weights to /root/.cache/colabfold:  93%|█████████▎| 3.57G/3.82G [00:19<00:00, 275MB/s]\rDownloading alphafold2_multimer_v3 weights to /root/.cache/colabfold:  94%|█████████▍| 3.59G/3.82G [00:19<00:00, 272MB/s]\rDownloading alphafold2_multimer_v3 weights to /root/.cache/colabfold:  95%|█████████▍| 3.62G/3.82G [00:19<00:00, 276MB/s]\rDownloading alphafold2_multimer_v3 weights to /root/.cache/colabfold:  95%|█████████▌| 3.65G/3.82G [00:19<00:00, 268MB/s]\rDownloading alphafold2_multimer_v3 weights to /root/.cache/colabfold:  96%|█████████▌| 3.67G/3.82G [00:19<00:00, 282MB/s]\rDownloading alphafold2_multimer_v3 weights to /root/.cache/colabfold:  97%|█████████▋| 3.70G/3.82G [00:19<00:00, 256MB/s]\rDownloading alphafold2_multimer_v3 weights to /root/.cache/colabfold:  98%|█████████▊| 3.72G/3.82G [00:21<00:02, 39.1MB/s]\rDownloading alphafold2_multimer_v3 weights to /root/.cache/colabfold:  98%|█████████▊| 3.76G/3.82G [00:21<00:01, 55.7MB/s]\rDownloading alphafold2_multimer_v3 weights to /root/.cache/colabfold:  99%|█████████▉| 3.78G/3.82G [00:22<00:00, 74.3MB/s]\rDownloading alphafold2_multimer_v3 weights to /root/.cache/colabfold: 100%|█████████▉| 3.81G/3.82G [00:22<00:00, 94.1MB/s]\rDownloading alphafold2_multimer_v3 weights to /root/.cache/colabfold: 100%|██████████| 3.82G/3.82G [00:22<00:00, 185MB/s] \n",
            "\rDownloading AlphaFold2-ptm weights to /root/.cache/colabfold:   0%|          | 0/3722752000 [00:00<?, ?it/s]\rDownloading AlphaFold2-ptm weights to /root/.cache/colabfold:   0%|          | 6.01M/3.47G [00:00<01:05, 57.1MB/s]\rDownloading AlphaFold2-ptm weights to /root/.cache/colabfold:   1%|          | 22.0M/3.47G [00:00<00:32, 114MB/s] \rDownloading AlphaFold2-ptm weights to /root/.cache/colabfold:   1%|          | 34.2M/3.47G [00:00<00:30, 120MB/s]\rDownloading AlphaFold2-ptm weights to /root/.cache/colabfold:   1%|▏         | 48.5M/3.47G [00:00<00:27, 131MB/s]\rDownloading AlphaFold2-ptm weights to /root/.cache/colabfold:   2%|▏         | 64.0M/3.47G [00:00<00:26, 136MB/s]\rDownloading AlphaFold2-ptm weights to /root/.cache/colabfold:   2%|▏         | 80.0M/3.47G [00:00<00:25, 143MB/s]\rDownloading AlphaFold2-ptm weights to /root/.cache/colabfold:   3%|▎         | 99.5M/3.47G [00:00<00:22, 162MB/s]\rDownloading AlphaFold2-ptm weights to /root/.cache/colabfold:   3%|▎         | 119M/3.47G [00:00<00:20, 176MB/s] \rDownloading AlphaFold2-ptm weights to /root/.cache/colabfold:   4%|▍         | 136M/3.47G [00:00<00:20, 174MB/s]\rDownloading AlphaFold2-ptm weights to /root/.cache/colabfold:   4%|▍         | 158M/3.47G [00:01<00:18, 191MB/s]\rDownloading AlphaFold2-ptm weights to /root/.cache/colabfold:   5%|▌         | 178M/3.47G [00:01<00:27, 130MB/s]\rDownloading AlphaFold2-ptm weights to /root/.cache/colabfold:   6%|▌         | 201M/3.47G [00:01<00:22, 155MB/s]\rDownloading AlphaFold2-ptm weights to /root/.cache/colabfold:   6%|▋         | 222M/3.47G [00:01<00:20, 171MB/s]\rDownloading AlphaFold2-ptm weights to /root/.cache/colabfold:   7%|▋         | 241M/3.47G [00:01<00:21, 162MB/s]\rDownloading AlphaFold2-ptm weights to /root/.cache/colabfold:   7%|▋         | 258M/3.47G [00:01<00:22, 151MB/s]\rDownloading AlphaFold2-ptm weights to /root/.cache/colabfold:   8%|▊         | 281M/3.47G [00:01<00:19, 173MB/s]\rDownloading AlphaFold2-ptm weights to /root/.cache/colabfold:   9%|▊         | 304M/3.47G [00:01<00:17, 190MB/s]\rDownloading AlphaFold2-ptm weights to /root/.cache/colabfold:   9%|▉         | 330M/3.47G [00:02<00:16, 210MB/s]\rDownloading AlphaFold2-ptm weights to /root/.cache/colabfold:  10%|▉         | 354M/3.47G [00:02<00:15, 222MB/s]\rDownloading AlphaFold2-ptm weights to /root/.cache/colabfold:  11%|█         | 376M/3.47G [00:02<00:18, 178MB/s]\rDownloading AlphaFold2-ptm weights to /root/.cache/colabfold:  11%|█▏        | 403M/3.47G [00:02<00:16, 202MB/s]\rDownloading AlphaFold2-ptm weights to /root/.cache/colabfold:  12%|█▏        | 429M/3.47G [00:02<00:14, 222MB/s]\rDownloading AlphaFold2-ptm weights to /root/.cache/colabfold:  13%|█▎        | 455M/3.47G [00:02<00:13, 235MB/s]\rDownloading AlphaFold2-ptm weights to /root/.cache/colabfold:  14%|█▎        | 481M/3.47G [00:02<00:13, 245MB/s]\rDownloading AlphaFold2-ptm weights to /root/.cache/colabfold:  14%|█▍        | 508M/3.47G [00:02<00:12, 255MB/s]\rDownloading AlphaFold2-ptm weights to /root/.cache/colabfold:  15%|█▌        | 533M/3.47G [00:03<00:14, 218MB/s]\rDownloading AlphaFold2-ptm weights to /root/.cache/colabfold:  16%|█▌        | 557M/3.47G [00:03<00:13, 227MB/s]\rDownloading AlphaFold2-ptm weights to /root/.cache/colabfold:  16%|█▋        | 580M/3.47G [00:03<00:13, 232MB/s]\rDownloading AlphaFold2-ptm weights to /root/.cache/colabfold:  17%|█▋        | 603M/3.47G [00:03<00:13, 225MB/s]\rDownloading AlphaFold2-ptm weights to /root/.cache/colabfold:  18%|█▊        | 627M/3.47G [00:03<00:13, 231MB/s]\rDownloading AlphaFold2-ptm weights to /root/.cache/colabfold:  18%|█▊        | 655M/3.47G [00:03<00:12, 249MB/s]\rDownloading AlphaFold2-ptm weights to /root/.cache/colabfold:  19%|█▉        | 679M/3.47G [00:03<00:12, 247MB/s]\rDownloading AlphaFold2-ptm weights to /root/.cache/colabfold:  20%|█▉        | 703M/3.47G [00:03<00:12, 235MB/s]\rDownloading AlphaFold2-ptm weights to /root/.cache/colabfold:  20%|██        | 726M/3.47G [00:03<00:14, 205MB/s]\rDownloading AlphaFold2-ptm weights to /root/.cache/colabfold:  21%|██        | 751M/3.47G [00:04<00:13, 222MB/s]\rDownloading AlphaFold2-ptm weights to /root/.cache/colabfold:  22%|██▏       | 777M/3.47G [00:04<00:12, 235MB/s]\rDownloading AlphaFold2-ptm weights to /root/.cache/colabfold:  23%|██▎       | 801M/3.47G [00:04<00:13, 211MB/s]\rDownloading AlphaFold2-ptm weights to /root/.cache/colabfold:  23%|██▎       | 822M/3.47G [00:04<00:13, 208MB/s]\rDownloading AlphaFold2-ptm weights to /root/.cache/colabfold:  24%|██▎       | 842M/3.47G [00:04<00:13, 208MB/s]\rDownloading AlphaFold2-ptm weights to /root/.cache/colabfold:  24%|██▍       | 863M/3.47G [00:04<00:13, 211MB/s]\rDownloading AlphaFold2-ptm weights to /root/.cache/colabfold:  25%|██▍       | 885M/3.47G [00:04<00:12, 216MB/s]\rDownloading AlphaFold2-ptm weights to /root/.cache/colabfold:  26%|██▌       | 906M/3.47G [00:04<00:12, 219MB/s]\rDownloading AlphaFold2-ptm weights to /root/.cache/colabfold:  26%|██▌       | 928M/3.47G [00:04<00:12, 213MB/s]\rDownloading AlphaFold2-ptm weights to /root/.cache/colabfold:  27%|██▋       | 948M/3.47G [00:05<00:13, 198MB/s]\rDownloading AlphaFold2-ptm weights to /root/.cache/colabfold:  27%|██▋       | 967M/3.47G [00:05<00:15, 178MB/s]\rDownloading AlphaFold2-ptm weights to /root/.cache/colabfold:  28%|██▊       | 985M/3.47G [00:05<00:14, 180MB/s]\rDownloading AlphaFold2-ptm weights to /root/.cache/colabfold:  28%|██▊       | 0.98G/3.47G [00:05<00:14, 187MB/s]\rDownloading AlphaFold2-ptm weights to /root/.cache/colabfold:  29%|██▉       | 1.00G/3.47G [00:05<00:14, 181MB/s]\rDownloading AlphaFold2-ptm weights to /root/.cache/colabfold:  29%|██▉       | 1.02G/3.47G [00:05<00:13, 190MB/s]\rDownloading AlphaFold2-ptm weights to /root/.cache/colabfold:  30%|██▉       | 1.04G/3.47G [00:05<00:13, 194MB/s]\rDownloading AlphaFold2-ptm weights to /root/.cache/colabfold:  31%|███       | 1.06G/3.47G [00:05<00:12, 202MB/s]\rDownloading AlphaFold2-ptm weights to /root/.cache/colabfold:  31%|███       | 1.08G/3.47G [00:05<00:13, 195MB/s]\rDownloading AlphaFold2-ptm weights to /root/.cache/colabfold:  32%|███▏      | 1.10G/3.47G [00:06<00:12, 196MB/s]\rDownloading AlphaFold2-ptm weights to /root/.cache/colabfold:  32%|███▏      | 1.11G/3.47G [00:06<00:12, 196MB/s]\rDownloading AlphaFold2-ptm weights to /root/.cache/colabfold:  33%|███▎      | 1.13G/3.47G [00:06<00:12, 197MB/s]\rDownloading AlphaFold2-ptm weights to /root/.cache/colabfold:  33%|███▎      | 1.15G/3.47G [00:06<00:12, 199MB/s]\rDownloading AlphaFold2-ptm weights to /root/.cache/colabfold:  34%|███▍      | 1.17G/3.47G [00:06<00:14, 172MB/s]\rDownloading AlphaFold2-ptm weights to /root/.cache/colabfold:  34%|███▍      | 1.19G/3.47G [00:09<02:14, 18.3MB/s]\rDownloading AlphaFold2-ptm weights to /root/.cache/colabfold:  35%|███▌      | 1.22G/3.47G [00:09<01:23, 29.1MB/s]\rDownloading AlphaFold2-ptm weights to /root/.cache/colabfold:  36%|███▌      | 1.23G/3.47G [00:10<01:08, 35.0MB/s]\rDownloading AlphaFold2-ptm weights to /root/.cache/colabfold:  36%|███▌      | 1.25G/3.47G [00:10<00:57, 41.6MB/s]\rDownloading AlphaFold2-ptm weights to /root/.cache/colabfold:  36%|███▋      | 1.26G/3.47G [00:10<00:48, 48.7MB/s]\rDownloading AlphaFold2-ptm weights to /root/.cache/colabfold:  37%|███▋      | 1.27G/3.47G [00:10<00:47, 49.8MB/s]\rDownloading AlphaFold2-ptm weights to /root/.cache/colabfold:  37%|███▋      | 1.28G/3.47G [00:10<00:41, 56.2MB/s]\rDownloading AlphaFold2-ptm weights to /root/.cache/colabfold:  37%|███▋      | 1.29G/3.47G [00:10<00:34, 67.6MB/s]\rDownloading AlphaFold2-ptm weights to /root/.cache/colabfold:  38%|███▊      | 1.31G/3.47G [00:10<00:27, 83.4MB/s]\rDownloading AlphaFold2-ptm weights to /root/.cache/colabfold:  38%|███▊      | 1.33G/3.47G [00:11<00:23, 97.5MB/s]\rDownloading AlphaFold2-ptm weights to /root/.cache/colabfold:  39%|███▊      | 1.34G/3.47G [00:11<00:20, 111MB/s] \rDownloading AlphaFold2-ptm weights to /root/.cache/colabfold:  39%|███▉      | 1.36G/3.47G [00:11<00:18, 124MB/s]\rDownloading AlphaFold2-ptm weights to /root/.cache/colabfold:  40%|███▉      | 1.38G/3.47G [00:11<00:17, 128MB/s]\rDownloading AlphaFold2-ptm weights to /root/.cache/colabfold:  40%|████      | 1.40G/3.47G [00:11<00:15, 146MB/s]\rDownloading AlphaFold2-ptm weights to /root/.cache/colabfold:  41%|████      | 1.42G/3.47G [00:11<00:13, 162MB/s]\rDownloading AlphaFold2-ptm weights to /root/.cache/colabfold:  41%|████▏     | 1.44G/3.47G [00:11<00:12, 180MB/s]\rDownloading AlphaFold2-ptm weights to /root/.cache/colabfold:  42%|████▏     | 1.46G/3.47G [00:11<00:11, 194MB/s]\rDownloading AlphaFold2-ptm weights to /root/.cache/colabfold:  43%|████▎     | 1.48G/3.47G [00:11<00:10, 201MB/s]\rDownloading AlphaFold2-ptm weights to /root/.cache/colabfold:  43%|████▎     | 1.50G/3.47G [00:12<00:11, 187MB/s]\rDownloading AlphaFold2-ptm weights to /root/.cache/colabfold:  44%|████▍     | 1.52G/3.47G [00:12<00:10, 201MB/s]\rDownloading AlphaFold2-ptm weights to /root/.cache/colabfold:  45%|████▍     | 1.55G/3.47G [00:12<00:09, 214MB/s]\rDownloading AlphaFold2-ptm weights to /root/.cache/colabfold:  45%|████▌     | 1.57G/3.47G [00:12<00:08, 233MB/s]\rDownloading AlphaFold2-ptm weights to /root/.cache/colabfold:  46%|████▌     | 1.60G/3.47G [00:12<00:08, 241MB/s]\rDownloading AlphaFold2-ptm weights to /root/.cache/colabfold:  47%|████▋     | 1.62G/3.47G [00:13<00:25, 78.1MB/s]\rDownloading AlphaFold2-ptm weights to /root/.cache/colabfold:  47%|████▋     | 1.64G/3.47G [00:13<00:19, 99.0MB/s]\rDownloading AlphaFold2-ptm weights to /root/.cache/colabfold:  48%|████▊     | 1.66G/3.47G [00:13<00:17, 114MB/s] \rDownloading AlphaFold2-ptm weights to /root/.cache/colabfold:  49%|████▊     | 1.68G/3.47G [00:13<00:14, 131MB/s]\rDownloading AlphaFold2-ptm weights to /root/.cache/colabfold:  49%|████▉     | 1.71G/3.47G [00:13<00:12, 151MB/s]\rDownloading AlphaFold2-ptm weights to /root/.cache/colabfold:  50%|████▉     | 1.73G/3.47G [00:13<00:10, 172MB/s]\rDownloading AlphaFold2-ptm weights to /root/.cache/colabfold:  50%|█████     | 1.75G/3.47G [00:13<00:10, 180MB/s]\rDownloading AlphaFold2-ptm weights to /root/.cache/colabfold:  51%|█████     | 1.77G/3.47G [00:13<00:10, 173MB/s]\rDownloading AlphaFold2-ptm weights to /root/.cache/colabfold:  52%|█████▏    | 1.79G/3.47G [00:14<00:10, 167MB/s]\rDownloading AlphaFold2-ptm weights to /root/.cache/colabfold:  52%|█████▏    | 1.81G/3.47G [00:14<00:10, 165MB/s]\rDownloading AlphaFold2-ptm weights to /root/.cache/colabfold:  53%|█████▎    | 1.82G/3.47G [00:14<00:10, 161MB/s]\rDownloading AlphaFold2-ptm weights to /root/.cache/colabfold:  53%|█████▎    | 1.84G/3.47G [00:14<00:09, 175MB/s]\rDownloading AlphaFold2-ptm weights to /root/.cache/colabfold:  54%|█████▎    | 1.86G/3.47G [00:14<00:10, 161MB/s]\rDownloading AlphaFold2-ptm weights to /root/.cache/colabfold:  54%|█████▍    | 1.87G/3.47G [00:14<00:11, 150MB/s]\rDownloading AlphaFold2-ptm weights to /root/.cache/colabfold:  54%|█████▍    | 1.89G/3.47G [00:14<00:11, 152MB/s]\rDownloading AlphaFold2-ptm weights to /root/.cache/colabfold:  55%|█████▍    | 1.90G/3.47G [00:14<00:11, 148MB/s]\rDownloading AlphaFold2-ptm weights to /root/.cache/colabfold:  55%|█████▌    | 1.92G/3.47G [00:15<00:10, 157MB/s]\rDownloading AlphaFold2-ptm weights to /root/.cache/colabfold:  56%|█████▌    | 1.94G/3.47G [00:15<00:10, 163MB/s]\rDownloading AlphaFold2-ptm weights to /root/.cache/colabfold:  56%|█████▋    | 1.95G/3.47G [00:15<00:09, 166MB/s]\rDownloading AlphaFold2-ptm weights to /root/.cache/colabfold:  57%|█████▋    | 1.97G/3.47G [00:15<00:09, 165MB/s]\rDownloading AlphaFold2-ptm weights to /root/.cache/colabfold:  57%|█████▋    | 1.99G/3.47G [00:15<00:09, 165MB/s]\rDownloading AlphaFold2-ptm weights to /root/.cache/colabfold:  58%|█████▊    | 2.00G/3.47G [00:15<00:10, 157MB/s]\rDownloading AlphaFold2-ptm weights to /root/.cache/colabfold:  58%|█████▊    | 2.02G/3.47G [00:15<00:10, 151MB/s]\rDownloading AlphaFold2-ptm weights to /root/.cache/colabfold:  59%|█████▊    | 2.03G/3.47G [00:15<00:10, 149MB/s]\rDownloading AlphaFold2-ptm weights to /root/.cache/colabfold:  59%|█████▉    | 2.04G/3.47G [00:15<00:10, 141MB/s]\rDownloading AlphaFold2-ptm weights to /root/.cache/colabfold:  59%|█████▉    | 2.06G/3.47G [00:16<00:10, 148MB/s]\rDownloading AlphaFold2-ptm weights to /root/.cache/colabfold:  60%|█████▉    | 2.07G/3.47G [00:16<00:10, 145MB/s]\rDownloading AlphaFold2-ptm weights to /root/.cache/colabfold:  60%|██████    | 2.09G/3.47G [00:16<00:11, 131MB/s]\rDownloading AlphaFold2-ptm weights to /root/.cache/colabfold:  61%|██████    | 2.10G/3.47G [00:16<00:10, 140MB/s]\rDownloading AlphaFold2-ptm weights to /root/.cache/colabfold:  61%|██████    | 2.12G/3.47G [00:16<00:09, 153MB/s]\rDownloading AlphaFold2-ptm weights to /root/.cache/colabfold:  62%|██████▏   | 2.13G/3.47G [00:16<00:10, 141MB/s]\rDownloading AlphaFold2-ptm weights to /root/.cache/colabfold:  62%|██████▏   | 2.15G/3.47G [00:16<00:11, 129MB/s]\rDownloading AlphaFold2-ptm weights to /root/.cache/colabfold:  63%|██████▎   | 2.17G/3.47G [00:16<00:08, 165MB/s]\rDownloading AlphaFold2-ptm weights to /root/.cache/colabfold:  63%|██████▎   | 2.19G/3.47G [00:16<00:07, 183MB/s]\rDownloading AlphaFold2-ptm weights to /root/.cache/colabfold:  64%|██████▍   | 2.22G/3.47G [00:17<00:06, 195MB/s]\rDownloading AlphaFold2-ptm weights to /root/.cache/colabfold:  65%|██████▍   | 2.24G/3.47G [00:17<00:06, 213MB/s]\rDownloading AlphaFold2-ptm weights to /root/.cache/colabfold:  65%|██████▌   | 2.26G/3.47G [00:17<00:05, 225MB/s]\rDownloading AlphaFold2-ptm weights to /root/.cache/colabfold:  66%|██████▌   | 2.29G/3.47G [00:17<00:05, 236MB/s]\rDownloading AlphaFold2-ptm weights to /root/.cache/colabfold:  67%|██████▋   | 2.31G/3.47G [00:17<00:05, 224MB/s]\rDownloading AlphaFold2-ptm weights to /root/.cache/colabfold:  67%|██████▋   | 2.33G/3.47G [00:17<00:05, 211MB/s]\rDownloading AlphaFold2-ptm weights to /root/.cache/colabfold:  68%|██████▊   | 2.35G/3.47G [00:17<00:05, 206MB/s]\rDownloading AlphaFold2-ptm weights to /root/.cache/colabfold:  68%|██████▊   | 2.37G/3.47G [00:17<00:05, 205MB/s]\rDownloading AlphaFold2-ptm weights to /root/.cache/colabfold:  69%|██████▉   | 2.39G/3.47G [00:17<00:05, 208MB/s]\rDownloading AlphaFold2-ptm weights to /root/.cache/colabfold:  70%|██████▉   | 2.41G/3.47G [00:17<00:05, 203MB/s]\rDownloading AlphaFold2-ptm weights to /root/.cache/colabfold:  70%|███████   | 2.43G/3.47G [00:18<00:05, 192MB/s]\rDownloading AlphaFold2-ptm weights to /root/.cache/colabfold:  71%|███████   | 2.45G/3.47G [00:18<00:05, 194MB/s]\rDownloading AlphaFold2-ptm weights to /root/.cache/colabfold:  71%|███████   | 2.47G/3.47G [00:18<00:05, 197MB/s]\rDownloading AlphaFold2-ptm weights to /root/.cache/colabfold:  72%|███████▏  | 2.49G/3.47G [00:18<00:05, 190MB/s]\rDownloading AlphaFold2-ptm weights to /root/.cache/colabfold:  72%|███████▏  | 2.51G/3.47G [00:18<00:05, 197MB/s]\rDownloading AlphaFold2-ptm weights to /root/.cache/colabfold:  73%|███████▎  | 2.53G/3.47G [00:18<00:05, 178MB/s]\rDownloading AlphaFold2-ptm weights to /root/.cache/colabfold:  73%|███████▎  | 2.54G/3.47G [00:18<00:06, 164MB/s]\rDownloading AlphaFold2-ptm weights to /root/.cache/colabfold:  74%|███████▍  | 2.56G/3.47G [00:18<00:06, 160MB/s]\rDownloading AlphaFold2-ptm weights to /root/.cache/colabfold:  74%|███████▍  | 2.58G/3.47G [00:19<00:05, 167MB/s]\rDownloading AlphaFold2-ptm weights to /root/.cache/colabfold:  75%|███████▍  | 2.59G/3.47G [00:19<00:05, 167MB/s]\rDownloading AlphaFold2-ptm weights to /root/.cache/colabfold:  75%|███████▌  | 2.61G/3.47G [00:19<00:05, 173MB/s]\rDownloading AlphaFold2-ptm weights to /root/.cache/colabfold:  76%|███████▌  | 2.62G/3.47G [00:19<00:05, 173MB/s]\rDownloading AlphaFold2-ptm weights to /root/.cache/colabfold:  76%|███████▌  | 2.64G/3.47G [00:19<00:04, 180MB/s]\rDownloading AlphaFold2-ptm weights to /root/.cache/colabfold:  77%|███████▋  | 2.66G/3.47G [00:19<00:04, 184MB/s]\rDownloading AlphaFold2-ptm weights to /root/.cache/colabfold:  77%|███████▋  | 2.68G/3.47G [00:19<00:04, 184MB/s]\rDownloading AlphaFold2-ptm weights to /root/.cache/colabfold:  78%|███████▊  | 2.70G/3.47G [00:19<00:04, 188MB/s]\rDownloading AlphaFold2-ptm weights to /root/.cache/colabfold:  78%|███████▊  | 2.71G/3.47G [00:19<00:04, 184MB/s]\rDownloading AlphaFold2-ptm weights to /root/.cache/colabfold:  79%|███████▉  | 2.74G/3.47G [00:19<00:04, 196MB/s]\rDownloading AlphaFold2-ptm weights to /root/.cache/colabfold:  79%|███████▉  | 2.76G/3.47G [00:20<00:03, 202MB/s]\rDownloading AlphaFold2-ptm weights to /root/.cache/colabfold:  80%|████████  | 2.77G/3.47G [00:20<00:03, 194MB/s]\rDownloading AlphaFold2-ptm weights to /root/.cache/colabfold:  81%|████████  | 2.79G/3.47G [00:20<00:04, 181MB/s]\rDownloading AlphaFold2-ptm weights to /root/.cache/colabfold:  81%|████████  | 2.81G/3.47G [00:20<00:04, 161MB/s]\rDownloading AlphaFold2-ptm weights to /root/.cache/colabfold:  81%|████████▏ | 2.83G/3.47G [00:20<00:04, 163MB/s]\rDownloading AlphaFold2-ptm weights to /root/.cache/colabfold:  82%|████████▏ | 2.84G/3.47G [00:20<00:03, 168MB/s]\rDownloading AlphaFold2-ptm weights to /root/.cache/colabfold:  83%|████████▎ | 2.86G/3.47G [00:20<00:03, 179MB/s]\rDownloading AlphaFold2-ptm weights to /root/.cache/colabfold:  83%|████████▎ | 2.88G/3.47G [00:20<00:03, 179MB/s]\rDownloading AlphaFold2-ptm weights to /root/.cache/colabfold:  84%|████████▎ | 2.90G/3.47G [00:20<00:03, 180MB/s]\rDownloading AlphaFold2-ptm weights to /root/.cache/colabfold:  84%|████████▍ | 2.91G/3.47G [00:24<00:33, 18.0MB/s]\rDownloading AlphaFold2-ptm weights to /root/.cache/colabfold:  85%|████████▍ | 2.94G/3.47G [00:24<00:20, 28.3MB/s]\rDownloading AlphaFold2-ptm weights to /root/.cache/colabfold:  85%|████████▌ | 2.95G/3.47G [00:24<00:16, 32.5MB/s]\rDownloading AlphaFold2-ptm weights to /root/.cache/colabfold:  86%|████████▌ | 2.96G/3.47G [00:24<00:14, 37.9MB/s]\rDownloading AlphaFold2-ptm weights to /root/.cache/colabfold:  86%|████████▌ | 2.98G/3.47G [00:24<00:12, 41.3MB/s]\rDownloading AlphaFold2-ptm weights to /root/.cache/colabfold:  86%|████████▌ | 2.98G/3.47G [00:24<00:10, 47.5MB/s]\rDownloading AlphaFold2-ptm weights to /root/.cache/colabfold:  86%|████████▋ | 2.99G/3.47G [00:25<00:09, 53.8MB/s]\rDownloading AlphaFold2-ptm weights to /root/.cache/colabfold:  87%|████████▋ | 3.01G/3.47G [00:25<00:07, 64.7MB/s]\rDownloading AlphaFold2-ptm weights to /root/.cache/colabfold:  87%|████████▋ | 3.02G/3.47G [00:25<00:06, 77.8MB/s]\rDownloading AlphaFold2-ptm weights to /root/.cache/colabfold:  87%|████████▋ | 3.03G/3.47G [00:25<00:05, 91.4MB/s]\rDownloading AlphaFold2-ptm weights to /root/.cache/colabfold:  88%|████████▊ | 3.05G/3.47G [00:25<00:04, 103MB/s] \rDownloading AlphaFold2-ptm weights to /root/.cache/colabfold:  88%|████████▊ | 3.06G/3.47G [00:25<00:03, 117MB/s]\rDownloading AlphaFold2-ptm weights to /root/.cache/colabfold:  89%|████████▉ | 3.08G/3.47G [00:25<00:03, 129MB/s]\rDownloading AlphaFold2-ptm weights to /root/.cache/colabfold:  89%|████████▉ | 3.09G/3.47G [00:25<00:02, 135MB/s]\rDownloading AlphaFold2-ptm weights to /root/.cache/colabfold:  90%|████████▉ | 3.11G/3.47G [00:25<00:02, 156MB/s]\rDownloading AlphaFold2-ptm weights to /root/.cache/colabfold:  90%|█████████ | 3.13G/3.47G [00:25<00:02, 168MB/s]\rDownloading AlphaFold2-ptm weights to /root/.cache/colabfold:  91%|█████████ | 3.15G/3.47G [00:26<00:02, 169MB/s]\rDownloading AlphaFold2-ptm weights to /root/.cache/colabfold:  91%|█████████▏| 3.17G/3.47G [00:26<00:01, 184MB/s]\rDownloading AlphaFold2-ptm weights to /root/.cache/colabfold:  92%|█████████▏| 3.19G/3.47G [00:26<00:01, 185MB/s]\rDownloading AlphaFold2-ptm weights to /root/.cache/colabfold:  92%|█████████▏| 3.21G/3.47G [00:26<00:01, 196MB/s]\rDownloading AlphaFold2-ptm weights to /root/.cache/colabfold:  93%|█████████▎| 3.23G/3.47G [00:26<00:01, 210MB/s]\rDownloading AlphaFold2-ptm weights to /root/.cache/colabfold:  94%|█████████▎| 3.25G/3.47G [00:26<00:01, 191MB/s]\rDownloading AlphaFold2-ptm weights to /root/.cache/colabfold:  94%|█████████▍| 3.27G/3.47G [00:26<00:01, 209MB/s]\rDownloading AlphaFold2-ptm weights to /root/.cache/colabfold:  95%|█████████▌| 3.30G/3.47G [00:26<00:00, 236MB/s]\rDownloading AlphaFold2-ptm weights to /root/.cache/colabfold:  96%|█████████▌| 3.32G/3.47G [00:26<00:00, 232MB/s]\rDownloading AlphaFold2-ptm weights to /root/.cache/colabfold:  96%|█████████▋| 3.35G/3.47G [00:26<00:00, 220MB/s]\rDownloading AlphaFold2-ptm weights to /root/.cache/colabfold:  97%|█████████▋| 3.37G/3.47G [00:27<00:00, 224MB/s]\rDownloading AlphaFold2-ptm weights to /root/.cache/colabfold:  98%|█████████▊| 3.39G/3.47G [00:27<00:00, 239MB/s]\rDownloading AlphaFold2-ptm weights to /root/.cache/colabfold:  99%|█████████▊| 3.42G/3.47G [00:27<00:00, 253MB/s]\rDownloading AlphaFold2-ptm weights to /root/.cache/colabfold:  99%|█████████▉| 3.44G/3.47G [00:27<00:00, 236MB/s]\rDownloading AlphaFold2-ptm weights to /root/.cache/colabfold: 100%|█████████▉| 3.47G/3.47G [00:27<00:00, 195MB/s]\rDownloading AlphaFold2-ptm weights to /root/.cache/colabfold: 100%|██████████| 3.47G/3.47G [00:27<00:00, 135MB/s]\n"
          ]
        }
      ]
    },
    {
      "cell_type": "code",
      "source": [
        "#@title Run Prediction\n",
        "\n",
        "import sys\n",
        "\n",
        "from colabfold.batch import get_queries, run\n",
        "from colabfold.download import default_data_dir\n",
        "from colabfold.utils import setup_logging\n",
        "from pathlib import Path\n",
        "\n",
        "# For some reason we need that to get pdbfixer to import\n",
        "if use_amber and f\"/usr/local/lib/python{python_version}/site-packages/\" not in sys.path:\n",
        "    sys.path.insert(0, f\"/usr/local/lib/python{python_version}/site-packages/\")\n",
        "\n",
        "setup_logging(Path(result_dir).joinpath(\"log.txt\"))\n",
        "\n",
        "queries, is_complex = get_queries(input_dir)\n",
        "run(\n",
        "    queries=queries,\n",
        "    result_dir=result_dir,\n",
        "    use_templates=use_templates,\n",
        "    num_relax=num_relax,\n",
        "    relax_max_iterations=relax_max_iterations,\n",
        "    msa_mode=msa_mode,\n",
        "    model_type=\"auto\",\n",
        "    num_models=num_models,\n",
        "    num_recycles=num_recycles,\n",
        "    model_order=[1, 2, 3, 4, 5],\n",
        "    is_complex=is_complex,\n",
        "    data_dir=default_data_dir,\n",
        "    keep_existing_results=do_not_overwrite_results,\n",
        "    rank_by=\"auto\",\n",
        "    pair_mode=\"unpaired+paired\",\n",
        "    stop_at_score=stop_at_score,\n",
        "    zip_results=zip_results,\n",
        "    user_agent=\"colabfold/google-colab-batch\",\n",
        ")"
      ],
      "metadata": {
        "colab": {
          "base_uri": "https://localhost:8080/"
        },
        "id": "-fWXmbVuamlC",
        "outputId": "70b98ab8-7621-4709-bf64-3fafad57df70"
      },
      "execution_count": 9,
      "outputs": [
        {
          "output_type": "stream",
          "name": "stdout",
          "text": [
            "2025-05-11 13:30:51,940 Running on GPU\n",
            "2025-05-11 13:30:52,302 Found 5 citations for tools or databases\n",
            "2025-05-11 13:30:52,303 Query 1/3: 30206_1_2_2 (length 12)\n"
          ]
        },
        {
          "output_type": "stream",
          "name": "stderr",
          "text": [
            "PENDING:   0%|          | 0/150 [elapsed: 00:00 remaining: ?]"
          ]
        },
        {
          "output_type": "stream",
          "name": "stdout",
          "text": [
            "2025-05-11 13:30:52,553 Sleeping for 9s. Reason: PENDING\n"
          ]
        },
        {
          "output_type": "stream",
          "name": "stderr",
          "text": [
            "COMPLETE: 100%|██████████| 150/150 [elapsed: 00:09 remaining: 00:00]\n"
          ]
        },
        {
          "output_type": "stream",
          "name": "stdout",
          "text": [
            "2025-05-11 13:31:14,607 Padding length to 22\n",
            "2025-05-11 13:31:37,095 alphafold2_ptm_model_1_seed_000 recycle=0 pLDDT=75.8 pTM=0.0446\n",
            "2025-05-11 13:31:40,062 alphafold2_ptm_model_1_seed_000 recycle=1 pLDDT=80.2 pTM=0.0469 tol=0.423\n",
            "2025-05-11 13:31:43,027 alphafold2_ptm_model_1_seed_000 recycle=2 pLDDT=79.1 pTM=0.0466 tol=0.237\n",
            "2025-05-11 13:31:45,993 alphafold2_ptm_model_1_seed_000 recycle=3 pLDDT=77.5 pTM=0.0446 tol=0.333\n",
            "2025-05-11 13:31:45,993 alphafold2_ptm_model_1_seed_000 took 31.4s (3 recycles)\n",
            "2025-05-11 13:31:48,974 alphafold2_ptm_model_2_seed_000 recycle=0 pLDDT=69.1 pTM=0.0438\n",
            "2025-05-11 13:31:51,936 alphafold2_ptm_model_2_seed_000 recycle=1 pLDDT=74.5 pTM=0.0464 tol=0.948\n",
            "2025-05-11 13:31:54,894 alphafold2_ptm_model_2_seed_000 recycle=2 pLDDT=71.2 pTM=0.0443 tol=0.205\n",
            "2025-05-11 13:31:57,847 alphafold2_ptm_model_2_seed_000 recycle=3 pLDDT=72.1 pTM=0.0439 tol=0.41\n",
            "2025-05-11 13:31:57,847 alphafold2_ptm_model_2_seed_000 took 11.8s (3 recycles)\n",
            "2025-05-11 13:32:00,813 alphafold2_ptm_model_3_seed_000 recycle=0 pLDDT=71.2 pTM=0.0383\n",
            "2025-05-11 13:32:03,769 alphafold2_ptm_model_3_seed_000 recycle=1 pLDDT=79.4 pTM=0.0418 tol=0.789\n",
            "2025-05-11 13:32:06,731 alphafold2_ptm_model_3_seed_000 recycle=2 pLDDT=76.2 pTM=0.0394 tol=0.362\n",
            "2025-05-11 13:32:09,698 alphafold2_ptm_model_3_seed_000 recycle=3 pLDDT=73.4 pTM=0.0377 tol=0.65\n",
            "2025-05-11 13:32:09,698 alphafold2_ptm_model_3_seed_000 took 11.8s (3 recycles)\n",
            "2025-05-11 13:32:12,679 alphafold2_ptm_model_4_seed_000 recycle=0 pLDDT=79 pTM=0.0437\n",
            "2025-05-11 13:32:15,646 alphafold2_ptm_model_4_seed_000 recycle=1 pLDDT=84.5 pTM=0.049 tol=1.8\n",
            "2025-05-11 13:32:18,620 alphafold2_ptm_model_4_seed_000 recycle=2 pLDDT=82.6 pTM=0.0473 tol=0.55\n",
            "2025-05-11 13:32:21,599 alphafold2_ptm_model_4_seed_000 recycle=3 pLDDT=80.4 pTM=0.0458 tol=0.669\n",
            "2025-05-11 13:32:21,600 alphafold2_ptm_model_4_seed_000 took 11.9s (3 recycles)\n",
            "2025-05-11 13:32:24,584 alphafold2_ptm_model_5_seed_000 recycle=0 pLDDT=84.1 pTM=0.0476\n",
            "2025-05-11 13:32:27,555 alphafold2_ptm_model_5_seed_000 recycle=1 pLDDT=88.3 pTM=0.0515 tol=0.928\n",
            "2025-05-11 13:32:30,526 alphafold2_ptm_model_5_seed_000 recycle=2 pLDDT=84.1 pTM=0.0483 tol=0.414\n",
            "2025-05-11 13:32:33,506 alphafold2_ptm_model_5_seed_000 recycle=3 pLDDT=80.9 pTM=0.0465 tol=0.341\n",
            "2025-05-11 13:32:33,507 alphafold2_ptm_model_5_seed_000 took 11.9s (3 recycles)\n",
            "2025-05-11 13:32:33,520 reranking models by 'plddt' metric\n",
            "2025-05-11 13:32:33,521 rank_001_alphafold2_ptm_model_5_seed_000 pLDDT=80.9 pTM=0.0465\n",
            "2025-05-11 13:32:33,524 rank_002_alphafold2_ptm_model_4_seed_000 pLDDT=80.4 pTM=0.0458\n",
            "2025-05-11 13:32:33,528 rank_003_alphafold2_ptm_model_1_seed_000 pLDDT=77.5 pTM=0.0446\n",
            "2025-05-11 13:32:33,531 rank_004_alphafold2_ptm_model_3_seed_000 pLDDT=73.4 pTM=0.0377\n",
            "2025-05-11 13:32:33,534 rank_005_alphafold2_ptm_model_2_seed_000 pLDDT=72.1 pTM=0.0439\n",
            "2025-05-11 13:32:34,480 Query 2/3: 30238_1_1_1 (length 44)\n"
          ]
        },
        {
          "output_type": "stream",
          "name": "stderr",
          "text": [
            "COMPLETE: 100%|██████████| 150/150 [elapsed: 00:00 remaining: 00:00]\n"
          ]
        },
        {
          "output_type": "stream",
          "name": "stdout",
          "text": [
            "2025-05-11 13:32:36,631 Padding length to 54\n",
            "2025-05-11 13:33:01,466 alphafold2_ptm_model_1_seed_000 recycle=0 pLDDT=62.8 pTM=0.305\n",
            "2025-05-11 13:33:05,971 alphafold2_ptm_model_1_seed_000 recycle=1 pLDDT=62.4 pTM=0.308 tol=0.664\n",
            "2025-05-11 13:33:10,490 alphafold2_ptm_model_1_seed_000 recycle=2 pLDDT=64.2 pTM=0.331 tol=0.487\n",
            "2025-05-11 13:33:15,036 alphafold2_ptm_model_1_seed_000 recycle=3 pLDDT=63.6 pTM=0.325 tol=0.151\n",
            "2025-05-11 13:33:15,037 alphafold2_ptm_model_1_seed_000 took 38.4s (3 recycles)\n",
            "2025-05-11 13:33:19,604 alphafold2_ptm_model_2_seed_000 recycle=0 pLDDT=53.3 pTM=0.26\n",
            "2025-05-11 13:33:24,178 alphafold2_ptm_model_2_seed_000 recycle=1 pLDDT=56.2 pTM=0.283 tol=0.435\n",
            "2025-05-11 13:33:28,776 alphafold2_ptm_model_2_seed_000 recycle=2 pLDDT=56.8 pTM=0.298 tol=0.232\n",
            "2025-05-11 13:33:33,377 alphafold2_ptm_model_2_seed_000 recycle=3 pLDDT=55.5 pTM=0.287 tol=0.76\n",
            "2025-05-11 13:33:33,378 alphafold2_ptm_model_2_seed_000 took 18.3s (3 recycles)\n",
            "2025-05-11 13:33:38,022 alphafold2_ptm_model_3_seed_000 recycle=0 pLDDT=61.1 pTM=0.274\n",
            "2025-05-11 13:33:42,648 alphafold2_ptm_model_3_seed_000 recycle=1 pLDDT=60.7 pTM=0.283 tol=0.457\n",
            "2025-05-11 13:33:47,281 alphafold2_ptm_model_3_seed_000 recycle=2 pLDDT=60.6 pTM=0.299 tol=0.317\n",
            "2025-05-11 13:33:51,918 alphafold2_ptm_model_3_seed_000 recycle=3 pLDDT=58.7 pTM=0.29 tol=0.899\n",
            "2025-05-11 13:33:51,919 alphafold2_ptm_model_3_seed_000 took 18.5s (3 recycles)\n",
            "2025-05-11 13:33:56,555 alphafold2_ptm_model_4_seed_000 recycle=0 pLDDT=54 pTM=0.255\n",
            "2025-05-11 13:34:01,204 alphafold2_ptm_model_4_seed_000 recycle=1 pLDDT=54.1 pTM=0.254 tol=0.57\n",
            "2025-05-11 13:34:05,840 alphafold2_ptm_model_4_seed_000 recycle=2 pLDDT=54.7 pTM=0.263 tol=0.261\n",
            "2025-05-11 13:34:10,478 alphafold2_ptm_model_4_seed_000 recycle=3 pLDDT=54.2 pTM=0.261 tol=0.583\n",
            "2025-05-11 13:34:10,479 alphafold2_ptm_model_4_seed_000 took 18.5s (3 recycles)\n",
            "2025-05-11 13:34:15,120 alphafold2_ptm_model_5_seed_000 recycle=0 pLDDT=57.5 pTM=0.288\n",
            "2025-05-11 13:34:19,757 alphafold2_ptm_model_5_seed_000 recycle=1 pLDDT=58 pTM=0.288 tol=0.538\n",
            "2025-05-11 13:34:24,380 alphafold2_ptm_model_5_seed_000 recycle=2 pLDDT=57.9 pTM=0.3 tol=0.817\n",
            "2025-05-11 13:34:29,020 alphafold2_ptm_model_5_seed_000 recycle=3 pLDDT=57.2 pTM=0.297 tol=1.67\n",
            "2025-05-11 13:34:29,020 alphafold2_ptm_model_5_seed_000 took 18.5s (3 recycles)\n",
            "2025-05-11 13:34:29,036 reranking models by 'plddt' metric\n",
            "2025-05-11 13:34:29,037 rank_001_alphafold2_ptm_model_1_seed_000 pLDDT=63.6 pTM=0.325\n",
            "2025-05-11 13:34:29,040 rank_002_alphafold2_ptm_model_3_seed_000 pLDDT=58.7 pTM=0.29\n",
            "2025-05-11 13:34:29,043 rank_003_alphafold2_ptm_model_5_seed_000 pLDDT=57.2 pTM=0.297\n",
            "2025-05-11 13:34:29,047 rank_004_alphafold2_ptm_model_2_seed_000 pLDDT=55.5 pTM=0.287\n",
            "2025-05-11 13:34:29,050 rank_005_alphafold2_ptm_model_4_seed_000 pLDDT=54.2 pTM=0.261\n",
            "2025-05-11 13:34:30,468 Query 3/3: 30245_1_2_1 (length 89)\n"
          ]
        },
        {
          "output_type": "stream",
          "name": "stderr",
          "text": [
            "COMPLETE: 100%|██████████| 150/150 [elapsed: 00:00 remaining: 00:00]\n"
          ]
        },
        {
          "output_type": "stream",
          "name": "stdout",
          "text": [
            "2025-05-11 13:35:01,965 alphafold2_ptm_model_1_seed_000 recycle=0 pLDDT=85.8 pTM=0.701\n",
            "2025-05-11 13:35:08,418 alphafold2_ptm_model_1_seed_000 recycle=1 pLDDT=83 pTM=0.668 tol=0.448\n",
            "2025-05-11 13:35:14,926 alphafold2_ptm_model_1_seed_000 recycle=2 pLDDT=83.4 pTM=0.666 tol=0.608\n",
            "2025-05-11 13:35:21,493 alphafold2_ptm_model_1_seed_000 recycle=3 pLDDT=80.9 pTM=0.632 tol=0.684\n",
            "2025-05-11 13:35:21,494 alphafold2_ptm_model_1_seed_000 took 47.9s (3 recycles)\n",
            "2025-05-11 13:35:28,141 alphafold2_ptm_model_2_seed_000 recycle=0 pLDDT=85.9 pTM=0.704\n",
            "2025-05-11 13:35:34,778 alphafold2_ptm_model_2_seed_000 recycle=1 pLDDT=80.8 pTM=0.635 tol=0.567\n",
            "2025-05-11 13:35:41,364 alphafold2_ptm_model_2_seed_000 recycle=2 pLDDT=80.8 pTM=0.636 tol=0.408\n",
            "2025-05-11 13:35:47,903 alphafold2_ptm_model_2_seed_000 recycle=3 pLDDT=80.3 pTM=0.627 tol=0.279\n",
            "2025-05-11 13:35:47,904 alphafold2_ptm_model_2_seed_000 took 26.4s (3 recycles)\n",
            "2025-05-11 13:35:54,435 alphafold2_ptm_model_3_seed_000 recycle=0 pLDDT=85.9 pTM=0.71\n",
            "2025-05-11 13:36:00,925 alphafold2_ptm_model_3_seed_000 recycle=1 pLDDT=84.8 pTM=0.683 tol=0.511\n",
            "2025-05-11 13:36:07,378 alphafold2_ptm_model_3_seed_000 recycle=2 pLDDT=85.6 pTM=0.696 tol=0.68\n",
            "2025-05-11 13:36:13,823 alphafold2_ptm_model_3_seed_000 recycle=3 pLDDT=84.9 pTM=0.686 tol=0.332\n",
            "2025-05-11 13:36:13,824 alphafold2_ptm_model_3_seed_000 took 25.9s (3 recycles)\n",
            "2025-05-11 13:36:20,279 alphafold2_ptm_model_4_seed_000 recycle=0 pLDDT=84.9 pTM=0.692\n",
            "2025-05-11 13:36:26,715 alphafold2_ptm_model_4_seed_000 recycle=1 pLDDT=83.6 pTM=0.667 tol=0.726\n",
            "2025-05-11 13:36:33,159 alphafold2_ptm_model_4_seed_000 recycle=2 pLDDT=83.4 pTM=0.669 tol=0.262\n",
            "2025-05-11 13:36:39,622 alphafold2_ptm_model_4_seed_000 recycle=3 pLDDT=82.8 pTM=0.655 tol=0.23\n",
            "2025-05-11 13:36:39,622 alphafold2_ptm_model_4_seed_000 took 25.8s (3 recycles)\n",
            "2025-05-11 13:36:46,130 alphafold2_ptm_model_5_seed_000 recycle=0 pLDDT=86.9 pTM=0.722\n",
            "2025-05-11 13:36:52,626 alphafold2_ptm_model_5_seed_000 recycle=1 pLDDT=84.7 pTM=0.692 tol=0.437\n",
            "2025-05-11 13:36:59,129 alphafold2_ptm_model_5_seed_000 recycle=2 pLDDT=85.6 pTM=0.705 tol=0.138\n",
            "2025-05-11 13:37:05,647 alphafold2_ptm_model_5_seed_000 recycle=3 pLDDT=84.8 pTM=0.688 tol=0.193\n",
            "2025-05-11 13:37:05,648 alphafold2_ptm_model_5_seed_000 took 26.0s (3 recycles)\n",
            "2025-05-11 13:37:05,676 reranking models by 'plddt' metric\n",
            "2025-05-11 13:37:05,676 rank_001_alphafold2_ptm_model_3_seed_000 pLDDT=84.9 pTM=0.686\n",
            "2025-05-11 13:37:05,680 rank_002_alphafold2_ptm_model_5_seed_000 pLDDT=84.8 pTM=0.688\n",
            "2025-05-11 13:37:05,683 rank_003_alphafold2_ptm_model_4_seed_000 pLDDT=82.8 pTM=0.655\n",
            "2025-05-11 13:37:05,686 rank_004_alphafold2_ptm_model_1_seed_000 pLDDT=80.9 pTM=0.632\n",
            "2025-05-11 13:37:05,689 rank_005_alphafold2_ptm_model_2_seed_000 pLDDT=80.3 pTM=0.627\n",
            "2025-05-11 13:37:06,643 Done\n"
          ]
        },
        {
          "output_type": "execute_result",
          "data": {
            "text/plain": [
              "{'rank': [['rank_001_alphafold2_ptm_model_5_seed_000',\n",
              "   'rank_002_alphafold2_ptm_model_4_seed_000',\n",
              "   'rank_003_alphafold2_ptm_model_1_seed_000',\n",
              "   'rank_004_alphafold2_ptm_model_3_seed_000',\n",
              "   'rank_005_alphafold2_ptm_model_2_seed_000'],\n",
              "  ['rank_001_alphafold2_ptm_model_1_seed_000',\n",
              "   'rank_002_alphafold2_ptm_model_3_seed_000',\n",
              "   'rank_003_alphafold2_ptm_model_5_seed_000',\n",
              "   'rank_004_alphafold2_ptm_model_2_seed_000',\n",
              "   'rank_005_alphafold2_ptm_model_4_seed_000'],\n",
              "  ['rank_001_alphafold2_ptm_model_3_seed_000',\n",
              "   'rank_002_alphafold2_ptm_model_5_seed_000',\n",
              "   'rank_003_alphafold2_ptm_model_4_seed_000',\n",
              "   'rank_004_alphafold2_ptm_model_1_seed_000',\n",
              "   'rank_005_alphafold2_ptm_model_2_seed_000']],\n",
              " 'metric': [[{'mean_plddt': 80.875,\n",
              "    'ptm': 0.046478271484375,\n",
              "    'print_line': ' pLDDT=80.9 pTM=0.0465'},\n",
              "   {'mean_plddt': 80.375,\n",
              "    'ptm': 0.0457763671875,\n",
              "    'print_line': ' pLDDT=80.4 pTM=0.0458'},\n",
              "   {'mean_plddt': 77.5,\n",
              "    'ptm': 0.044647216796875,\n",
              "    'print_line': ' pLDDT=77.5 pTM=0.0446'},\n",
              "   {'mean_plddt': 73.4375,\n",
              "    'ptm': 0.03765869140625,\n",
              "    'print_line': ' pLDDT=73.4 pTM=0.0377'},\n",
              "   {'mean_plddt': 72.0625,\n",
              "    'ptm': 0.0439453125,\n",
              "    'print_line': ' pLDDT=72.1 pTM=0.0439'}],\n",
              "  [{'mean_plddt': 63.59375,\n",
              "    'ptm': 0.325439453125,\n",
              "    'print_line': ' pLDDT=63.6 pTM=0.325'},\n",
              "   {'mean_plddt': 58.65625,\n",
              "    'ptm': 0.28955078125,\n",
              "    'print_line': ' pLDDT=58.7 pTM=0.29'},\n",
              "   {'mean_plddt': 57.25,\n",
              "    'ptm': 0.296630859375,\n",
              "    'print_line': ' pLDDT=57.2 pTM=0.297'},\n",
              "   {'mean_plddt': 55.53125,\n",
              "    'ptm': 0.286865234375,\n",
              "    'print_line': ' pLDDT=55.5 pTM=0.287'},\n",
              "   {'mean_plddt': 54.25,\n",
              "    'ptm': 0.261474609375,\n",
              "    'print_line': ' pLDDT=54.2 pTM=0.261'}],\n",
              "  [{'mean_plddt': 84.875,\n",
              "    'ptm': 0.685546875,\n",
              "    'print_line': ' pLDDT=84.9 pTM=0.686'},\n",
              "   {'mean_plddt': 84.75, 'ptm': 0.6875, 'print_line': ' pLDDT=84.8 pTM=0.688'},\n",
              "   {'mean_plddt': 82.75,\n",
              "    'ptm': 0.6552734375,\n",
              "    'print_line': ' pLDDT=82.8 pTM=0.655'},\n",
              "   {'mean_plddt': 80.9375,\n",
              "    'ptm': 0.63232421875,\n",
              "    'print_line': ' pLDDT=80.9 pTM=0.632'},\n",
              "   {'mean_plddt': 80.3125,\n",
              "    'ptm': 0.626953125,\n",
              "    'print_line': ' pLDDT=80.3 pTM=0.627'}]]}"
            ]
          },
          "metadata": {},
          "execution_count": 9
        }
      ]
    },
    {
      "cell_type": "code",
      "source": [],
      "metadata": {
        "id": "CCfdVdsNiTZz"
      },
      "execution_count": null,
      "outputs": []
    }
  ]
}